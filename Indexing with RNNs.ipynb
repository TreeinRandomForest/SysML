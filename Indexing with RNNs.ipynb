{
 "cells": [
  {
   "cell_type": "code",
   "execution_count": 86,
   "id": "aaa00763",
   "metadata": {},
   "outputs": [
    {
     "name": "stdout",
     "output_type": "stream",
     "text": [
      "The autoreload extension is already loaded. To reload it, use:\n",
      "  %reload_ext autoreload\n"
     ]
    }
   ],
   "source": [
    "%load_ext autoreload\n",
    "%autoreload 2\n",
    "%matplotlib inline\n",
    "\n",
    "import torch\n",
    "import torch.nn as nn\n",
    "import torch.optim as optim\n",
    "import matplotlib.pylab as plt\n",
    "import numpy as np\n",
    "\n",
    "device = 'cuda:0' if torch.cuda.is_available() else \"cpu\"\n",
    "\n",
    "def gen_data(N=100, d=10, low=0, high=10):\n",
    "    data = np.random.randint(low=low, high=high, size=(N,d))\n",
    "    \n",
    "    target_idx = np.random.randint(low=0, high=d, size=N)\n",
    "    \n",
    "    y = data[np.arange(data.shape[0]), target_idx]\n",
    "    \n",
    "    return (data, target_idx), y\n",
    "\n",
    "N = 5000\n",
    "low = 0 \n",
    "high = 10\n",
    "d = 10\n",
    "\n",
    "train_data, train_target = gen_data(N=N, low=low, high=high, d=d)\n",
    "test_data, test_target = gen_data(N=N, low=low, high=high, d=d)"
   ]
  },
  {
   "cell_type": "markdown",
   "id": "d87bf706",
   "metadata": {},
   "source": [
    "## Recurrent Neural Networks (RNN)"
   ]
  },
  {
   "cell_type": "markdown",
   "id": "39d26218",
   "metadata": {},
   "source": [
    "An RNN will process a sequence of tokens. The pseudocode is something like the following:\n",
    "\n",
    "token_list = [...]\n",
    "\n",
    "hidden_vec = [0, ..., 0] #some fixed length or dimensionality\n",
    "\n",
    "for token in token_list:\n",
    "\n",
    "#lookup vector for each token from a hash table\n",
    "    token_vec = embedding_table[token]\n",
    "    \n",
    "    #use previous hidden_vec and current token_vec to update hidden_vec\n",
    "    #this is updating the state (hidden_vec) of the net using the new token\n",
    "    \n",
    "    hidden_vec = update(hidden_vec/previous state, token_vec/new data)\n",
    "    \n",
    "after the loop, hidden_vec encodes all the information about the input sequence and can be used to make a prediction\n",
    "\n",
    "prediction = pred(hidden_vec)\n",
    "\n",
    "for us, this could also be\n",
    "\n",
    "prediction = pred(hidden_vec, index)\n",
    "\n",
    "if the task is to predict the entry at a particular index"
   ]
  },
  {
   "cell_type": "markdown",
   "id": "73b5079b",
   "metadata": {},
   "source": [
    "### Embedding"
   ]
  },
  {
   "cell_type": "markdown",
   "id": "832e2afe",
   "metadata": {},
   "source": [
    "Suppose, we were working with natural text where the tokens were words. To feed in a word like \"apple\" to a neural network, we need to \"numericalize\" (i.e. convert it to a number) it.\n",
    "\n",
    "The simplest solution is to map each unique token to a unique integer. For example:\n",
    "\n",
    "\"apple\" -> 0\n",
    "\n",
    "\"is\" -> 1\n",
    "\n",
    "\"a\" -> 2\n",
    "\n",
    "etc.\n",
    "\n",
    "Note that the only requirement is that this mapping is one-to-one i.e. different words are mapped to different integers. The actual mapping, i.e. whether \"apple\" -> 0 or \"apple\" -> 59, doesn't matter.\n",
    "\n",
    "Are there any problems with this encoding of tokens? One immediate problem is that it imposes an ordering on the tokens. \"apple\" is not less than \"a\" but 2 < 0. Depending on the machine learning model used, this ordered encoding can induce artifacts that are not real.\n",
    "\n",
    "The solution to this problem is the so-called one-hot encoding. Suppose, there are N distinct words. Each word is mapped to a vector of size N where exactly one entry is 1 and the rest are zeros. Suppose, N = 3. Then,\n",
    "\n",
    "\"apple\" -> [1,0,0]\n",
    "\n",
    "\"is\" -> [0,1,0]\n",
    "\n",
    "\"a\" -> [0,0,1]\n",
    "\n",
    "Now, there is no order imposed on the tokens. Each vector is orthogonal to all other vectors (the dot product of vectors corresponding to distinct words is 0). This creates a couple of problems. If the number of tokens is large, the dimensionality N will also be large and this has implications for memory usage. Another problem is more conceptual. While each word is distinct (by definition) from every other word, words are not distinct by meaning. \"apple\" and \"mango\" are similar in the sense that they are both fruits but they are clearly also distinct (winter vs summer fruit etc.). Since vectors can be used to encode similarity, is it possible to map tokens to vectors such that (a) similar meaning words map to similar vectors and (b) dissimilar meaning words map to dissimilar vectors.\n",
    "\n",
    "This is the problem embeddings solve. The philosophy in neural networks is to map each token to a unique vector is a relatively small (compared to the number of distinct tokens, N) dimensional (128 below) vector space. The embeddings are initialized randomly but are also adjusted during the learning process using the same exact process used to adjust/learn weights i.e. by computing derivatives and using gradient descent."
   ]
  },
  {
   "cell_type": "code",
   "execution_count": 6,
   "id": "e905cb6b",
   "metadata": {},
   "outputs": [],
   "source": [
    "embedding_dim = 128\n",
    "emb = nn.Embedding(num_embeddings=high-low, embedding_dim=128)"
   ]
  },
  {
   "cell_type": "code",
   "execution_count": 7,
   "id": "e5cf9a19",
   "metadata": {},
   "outputs": [
    {
     "data": {
      "text/plain": [
       "tensor([-0.7776,  0.0758, -1.2728,  0.3797, -1.4441,  0.4137, -0.8859, -0.3029,\n",
       "         0.0037, -1.9666,  0.8111, -0.4503, -0.6622, -1.5308, -0.9797,  1.4748,\n",
       "         1.0709,  0.9153,  0.7402,  0.3153,  0.3452,  1.4954, -0.7081, -0.3989,\n",
       "        -0.5133, -0.3613,  1.0528, -0.2357, -0.8393,  0.8153,  0.9210, -0.3544,\n",
       "        -0.3448, -0.1160,  0.1462, -0.2989,  0.8994, -0.5678, -1.2291, -1.8019,\n",
       "        -0.0917,  1.0638, -0.8886, -0.5970, -0.5144,  0.7372, -0.9562,  1.0981,\n",
       "        -1.7168, -1.1826, -0.6307,  1.3211, -0.7107,  0.7663,  0.2123, -0.0610,\n",
       "        -0.0494,  0.3149,  0.4044, -0.0982, -0.2120,  1.3882, -0.7457,  0.8129,\n",
       "        -0.7858,  1.9465,  1.3055, -0.4094,  0.2988, -0.1123,  0.7873,  0.0784,\n",
       "         0.4255, -0.4259,  0.4289, -0.0592,  0.6327, -1.4207,  1.5566,  1.8306,\n",
       "         1.3141,  0.4218,  0.1698,  1.0598,  0.3751,  0.2128, -0.4448, -0.1987,\n",
       "         0.8481,  0.2293,  0.3222,  0.3825,  1.2912, -0.0781, -1.7094,  0.5180,\n",
       "        -0.7820, -0.6893,  0.4335, -0.7543,  1.2502,  0.1772, -0.6289, -0.5303,\n",
       "         0.8285,  1.6762, -0.5490, -0.6678, -0.7351,  0.4310, -1.4231, -0.3137,\n",
       "         0.5793, -1.6629, -0.5404, -1.8174,  0.1862, -0.8300,  2.1404,  0.1675,\n",
       "         0.7398, -0.7722, -0.1639,  0.2817,  0.2039,  1.6191,  0.1031, -0.2590],\n",
       "       grad_fn=<EmbeddingBackward0>)"
      ]
     },
     "execution_count": 7,
     "metadata": {},
     "output_type": "execute_result"
    }
   ],
   "source": [
    "#can now look up embedding vectors based on input token (any value between low and high-1)\n",
    "\n",
    "emb(torch.tensor(0))"
   ]
  },
  {
   "cell_type": "code",
   "execution_count": 8,
   "id": "d346de8e",
   "metadata": {},
   "outputs": [
    {
     "data": {
      "text/plain": [
       "tensor([-1.4117e+00, -5.4551e-01, -5.6932e-01, -1.1557e+00, -5.2234e-01,\n",
       "        -8.4925e-01,  6.9589e-01, -7.5135e-02, -3.4572e-01,  1.4316e+00,\n",
       "         1.4259e-01,  1.4484e+00,  5.6853e-01,  7.5547e-01, -9.8406e-01,\n",
       "        -5.5709e-01,  4.5423e-01,  1.8467e+00, -4.3281e-01,  8.4503e-02,\n",
       "         4.8608e-01,  7.7047e-01,  1.0511e+00,  9.8881e-02,  1.9821e+00,\n",
       "        -8.4866e-01, -4.8272e-01, -7.3897e-01, -1.4799e+00, -3.7572e+00,\n",
       "         4.9821e-01, -6.5011e-01, -3.3622e-01,  2.9494e-01, -1.3662e+00,\n",
       "         1.3828e+00,  6.5192e-01, -3.4389e-01, -1.6061e+00, -8.6304e-01,\n",
       "         5.2523e-01,  5.7143e-01, -2.7077e-01,  1.0744e-01, -5.1499e-02,\n",
       "        -4.5526e-01, -5.3947e-01, -6.3980e-01,  1.6315e-01,  3.1947e+00,\n",
       "        -1.0042e+00,  4.7981e-01,  7.1870e-01,  7.8232e-02, -1.9011e+00,\n",
       "        -1.6718e+00,  1.3400e-02,  7.5010e-02,  1.6866e+00,  5.3600e-01,\n",
       "        -1.2258e+00, -5.8847e-01, -1.8556e+00,  9.6030e-01, -5.4986e-01,\n",
       "         6.6554e-01,  2.8968e-01,  2.2176e-01, -3.0247e-01,  7.8412e-03,\n",
       "         1.0437e+00,  2.9133e-01,  1.4695e+00,  8.4547e-02, -1.2965e+00,\n",
       "        -1.0326e+00, -1.0879e+00, -1.9083e-01,  4.2373e-01, -6.1277e-01,\n",
       "        -1.0602e-01, -2.3706e-01,  8.1110e-02,  6.8074e-01,  4.3649e-01,\n",
       "        -1.9607e-02,  5.6580e-01, -4.6651e-01,  1.4749e+00, -1.3267e-01,\n",
       "        -3.5772e-01,  3.7013e-01,  9.4220e-01,  7.1562e-01,  1.7716e+00,\n",
       "         1.4417e+00,  3.0465e-01,  3.0498e-01, -7.8922e-01,  1.6838e+00,\n",
       "        -1.1931e+00, -9.5381e-01,  1.1268e+00,  4.8533e-01, -5.6055e-01,\n",
       "        -8.7387e-01,  5.5640e-01, -1.5480e-01,  1.3411e-01,  3.6350e-01,\n",
       "         2.3593e+00, -4.5343e-01,  8.0506e-02,  1.5820e-01,  1.3033e+00,\n",
       "        -1.6300e+00, -1.5641e-01, -2.6608e-01,  3.9379e-01, -3.8809e-01,\n",
       "         5.3396e-05, -1.3973e+00, -1.8602e+00, -1.1517e+00,  3.5771e-02,\n",
       "         9.3788e-01,  2.8582e-01,  9.6139e-01], grad_fn=<EmbeddingBackward0>)"
      ]
     },
     "execution_count": 8,
     "metadata": {},
     "output_type": "execute_result"
    }
   ],
   "source": [
    "emb(torch.tensor(high-1))"
   ]
  },
  {
   "cell_type": "code",
   "execution_count": 9,
   "id": "7908585c",
   "metadata": {},
   "outputs": [
    {
     "ename": "IndexError",
     "evalue": "index out of range in self",
     "output_type": "error",
     "traceback": [
      "\u001b[0;31m---------------------------------------------------------------------------\u001b[0m",
      "\u001b[0;31mIndexError\u001b[0m                                Traceback (most recent call last)",
      "\u001b[0;32m/tmp/ipykernel_2904244/2274679028.py\u001b[0m in \u001b[0;36m<module>\u001b[0;34m\u001b[0m\n\u001b[1;32m      1\u001b[0m \u001b[0;31m#only values between low and high-1 have entries in the table\u001b[0m\u001b[0;34m\u001b[0m\u001b[0;34m\u001b[0m\u001b[0m\n\u001b[0;32m----> 2\u001b[0;31m \u001b[0memb\u001b[0m\u001b[0;34m(\u001b[0m\u001b[0mtorch\u001b[0m\u001b[0;34m.\u001b[0m\u001b[0mtensor\u001b[0m\u001b[0;34m(\u001b[0m\u001b[0mhigh\u001b[0m\u001b[0;34m)\u001b[0m\u001b[0;34m)\u001b[0m\u001b[0;34m\u001b[0m\u001b[0;34m\u001b[0m\u001b[0m\n\u001b[0m",
      "\u001b[0;32m~/Downloads/venv_pytorch/lib64/python3.9/site-packages/torch/nn/modules/module.py\u001b[0m in \u001b[0;36m_call_impl\u001b[0;34m(self, *input, **kwargs)\u001b[0m\n\u001b[1;32m   1100\u001b[0m         if not (self._backward_hooks or self._forward_hooks or self._forward_pre_hooks or _global_backward_hooks\n\u001b[1;32m   1101\u001b[0m                 or _global_forward_hooks or _global_forward_pre_hooks):\n\u001b[0;32m-> 1102\u001b[0;31m             \u001b[0;32mreturn\u001b[0m \u001b[0mforward_call\u001b[0m\u001b[0;34m(\u001b[0m\u001b[0;34m*\u001b[0m\u001b[0minput\u001b[0m\u001b[0;34m,\u001b[0m \u001b[0;34m**\u001b[0m\u001b[0mkwargs\u001b[0m\u001b[0;34m)\u001b[0m\u001b[0;34m\u001b[0m\u001b[0;34m\u001b[0m\u001b[0m\n\u001b[0m\u001b[1;32m   1103\u001b[0m         \u001b[0;31m# Do not call functions when jit is used\u001b[0m\u001b[0;34m\u001b[0m\u001b[0;34m\u001b[0m\u001b[0m\n\u001b[1;32m   1104\u001b[0m         \u001b[0mfull_backward_hooks\u001b[0m\u001b[0;34m,\u001b[0m \u001b[0mnon_full_backward_hooks\u001b[0m \u001b[0;34m=\u001b[0m \u001b[0;34m[\u001b[0m\u001b[0;34m]\u001b[0m\u001b[0;34m,\u001b[0m \u001b[0;34m[\u001b[0m\u001b[0;34m]\u001b[0m\u001b[0;34m\u001b[0m\u001b[0;34m\u001b[0m\u001b[0m\n",
      "\u001b[0;32m~/Downloads/venv_pytorch/lib64/python3.9/site-packages/torch/nn/modules/sparse.py\u001b[0m in \u001b[0;36mforward\u001b[0;34m(self, input)\u001b[0m\n\u001b[1;32m    156\u001b[0m \u001b[0;34m\u001b[0m\u001b[0m\n\u001b[1;32m    157\u001b[0m     \u001b[0;32mdef\u001b[0m \u001b[0mforward\u001b[0m\u001b[0;34m(\u001b[0m\u001b[0mself\u001b[0m\u001b[0;34m,\u001b[0m \u001b[0minput\u001b[0m\u001b[0;34m:\u001b[0m \u001b[0mTensor\u001b[0m\u001b[0;34m)\u001b[0m \u001b[0;34m->\u001b[0m \u001b[0mTensor\u001b[0m\u001b[0;34m:\u001b[0m\u001b[0;34m\u001b[0m\u001b[0;34m\u001b[0m\u001b[0m\n\u001b[0;32m--> 158\u001b[0;31m         return F.embedding(\n\u001b[0m\u001b[1;32m    159\u001b[0m             \u001b[0minput\u001b[0m\u001b[0;34m,\u001b[0m \u001b[0mself\u001b[0m\u001b[0;34m.\u001b[0m\u001b[0mweight\u001b[0m\u001b[0;34m,\u001b[0m \u001b[0mself\u001b[0m\u001b[0;34m.\u001b[0m\u001b[0mpadding_idx\u001b[0m\u001b[0;34m,\u001b[0m \u001b[0mself\u001b[0m\u001b[0;34m.\u001b[0m\u001b[0mmax_norm\u001b[0m\u001b[0;34m,\u001b[0m\u001b[0;34m\u001b[0m\u001b[0;34m\u001b[0m\u001b[0m\n\u001b[1;32m    160\u001b[0m             self.norm_type, self.scale_grad_by_freq, self.sparse)\n",
      "\u001b[0;32m~/Downloads/venv_pytorch/lib64/python3.9/site-packages/torch/nn/functional.py\u001b[0m in \u001b[0;36membedding\u001b[0;34m(input, weight, padding_idx, max_norm, norm_type, scale_grad_by_freq, sparse)\u001b[0m\n\u001b[1;32m   2042\u001b[0m         \u001b[0;31m# remove once script supports set_grad_enabled\u001b[0m\u001b[0;34m\u001b[0m\u001b[0;34m\u001b[0m\u001b[0m\n\u001b[1;32m   2043\u001b[0m         \u001b[0m_no_grad_embedding_renorm_\u001b[0m\u001b[0;34m(\u001b[0m\u001b[0mweight\u001b[0m\u001b[0;34m,\u001b[0m \u001b[0minput\u001b[0m\u001b[0;34m,\u001b[0m \u001b[0mmax_norm\u001b[0m\u001b[0;34m,\u001b[0m \u001b[0mnorm_type\u001b[0m\u001b[0;34m)\u001b[0m\u001b[0;34m\u001b[0m\u001b[0;34m\u001b[0m\u001b[0m\n\u001b[0;32m-> 2044\u001b[0;31m     \u001b[0;32mreturn\u001b[0m \u001b[0mtorch\u001b[0m\u001b[0;34m.\u001b[0m\u001b[0membedding\u001b[0m\u001b[0;34m(\u001b[0m\u001b[0mweight\u001b[0m\u001b[0;34m,\u001b[0m \u001b[0minput\u001b[0m\u001b[0;34m,\u001b[0m \u001b[0mpadding_idx\u001b[0m\u001b[0;34m,\u001b[0m \u001b[0mscale_grad_by_freq\u001b[0m\u001b[0;34m,\u001b[0m \u001b[0msparse\u001b[0m\u001b[0;34m)\u001b[0m\u001b[0;34m\u001b[0m\u001b[0;34m\u001b[0m\u001b[0m\n\u001b[0m\u001b[1;32m   2045\u001b[0m \u001b[0;34m\u001b[0m\u001b[0m\n\u001b[1;32m   2046\u001b[0m \u001b[0;34m\u001b[0m\u001b[0m\n",
      "\u001b[0;31mIndexError\u001b[0m: index out of range in self"
     ]
    }
   ],
   "source": [
    "#only values between low and high-1 have entries in the table\n",
    "emb(torch.tensor(high))"
   ]
  },
  {
   "cell_type": "markdown",
   "id": "cc53ca4f",
   "metadata": {},
   "source": [
    "### RNN definition"
   ]
  },
  {
   "cell_type": "markdown",
   "id": "ee9e9cd2",
   "metadata": {},
   "source": [
    "The code below defines the recurrent neural network. There are three broad classes of RNNs:\n",
    "\n",
    "1. Vanilla RNNs - these tend to have a problem learning long-range behavior if the sequences are long. This is due to the so-called exploding and vanishing gradients problem (don't worry about this for now).\n",
    "\n",
    "2. Long short-term memory networks (LSTMs): instead of having just one (hidden) state like RNNs, LSTMs maintain a long-term memory vector and a short-term memory vector. The coarse idea is to use the long-term memory vector to \"remember\" long-range patterns.\n",
    "\n",
    "3. Gated Recurrent Units (GRUs): A simpler (less parameters/weights) form of LSTMs with the same underlying idea.\n",
    "\n",
    "(We can go over the details in a call)\n",
    "\n",
    "We will also use \"attention\". The core idea of attention is described below.\n",
    "\n",
    "As an RNN processes an input sequence (sentence or byte vector), it generates a sequence of hidden vectors.\n",
    "\n",
    "$$h_1, h_2, \\ldots, h_T$$\n",
    "\n",
    "where T = length of sequence.\n",
    "\n",
    "The final hidden state is then used as a measure of context for any downstream tasks (predicting an output sequence or predicting a class for the sequence).\n",
    "\n",
    "Attention refers to the idea that the context shouldn't consist just of $h_T$ but should be dynamic/flexible. \n",
    "\n",
    "For more details, either see the code below or the notes on attention near the end of this notebook."
   ]
  },
  {
   "cell_type": "markdown",
   "id": "b9326fd0",
   "metadata": {},
   "source": [
    "#### First, experiment with an LSTM to understand shapes of various tensors"
   ]
  },
  {
   "cell_type": "code",
   "execution_count": 10,
   "id": "70bd2848",
   "metadata": {},
   "outputs": [],
   "source": [
    "#see: https://pytorch.org/docs/stable/generated/torch.nn.LSTM.html\n",
    "rnn = nn.LSTM(input_size = 128, #dimension of embedding\n",
    "              hidden_size = 32, #\n",
    "              num_layers = 2,\n",
    "              batch_first = True, #expect (batch, seq, feature)\n",
    "              dropout = 0.5,\n",
    "              bidirectional=True                             \n",
    "             )"
   ]
  },
  {
   "cell_type": "code",
   "execution_count": 11,
   "id": "3e9e66eb",
   "metadata": {},
   "outputs": [
    {
     "data": {
      "text/plain": [
       "torch.Size([5, 10])"
      ]
     },
     "execution_count": 11,
     "metadata": {},
     "output_type": "execute_result"
    }
   ],
   "source": [
    "#want to understand data flow. pick some input data\n",
    "inp = torch.from_numpy(train_data[0:5])\n",
    "inp.shape #(batch/sequence number, length/time)"
   ]
  },
  {
   "cell_type": "code",
   "execution_count": 12,
   "id": "52f2e0eb",
   "metadata": {},
   "outputs": [
    {
     "data": {
      "text/plain": [
       "torch.Size([5, 10, 128])"
      ]
     },
     "execution_count": 12,
     "metadata": {},
     "output_type": "execute_result"
    }
   ],
   "source": [
    "emb(inp).shape #(batch/sequence number, length/time, embedding feature)"
   ]
  },
  {
   "cell_type": "code",
   "execution_count": 13,
   "id": "157368d2",
   "metadata": {},
   "outputs": [
    {
     "name": "stdout",
     "output_type": "stream",
     "text": [
      "<class 'tuple'>\n"
     ]
    },
    {
     "data": {
      "text/plain": [
       "2"
      ]
     },
     "execution_count": 13,
     "metadata": {},
     "output_type": "execute_result"
    }
   ],
   "source": [
    "print(type(rnn(emb(inp))))\n",
    "len(rnn(emb(inp)))"
   ]
  },
  {
   "cell_type": "code",
   "execution_count": 14,
   "id": "6b8283e7",
   "metadata": {},
   "outputs": [
    {
     "name": "stdout",
     "output_type": "stream",
     "text": [
      "<class 'torch.Tensor'>\n",
      "torch.Size([5, 10, 64])\n"
     ]
    }
   ],
   "source": [
    "print(type(rnn(emb(inp))[0]))\n",
    "print(rnn(emb(inp))[0].shape) #(batch/sequence number, length/time, embedding feature*2 for bidirectional)"
   ]
  },
  {
   "cell_type": "code",
   "execution_count": 15,
   "id": "1356dea9",
   "metadata": {},
   "outputs": [
    {
     "name": "stdout",
     "output_type": "stream",
     "text": [
      "<class 'tuple'>\n",
      "2\n"
     ]
    }
   ],
   "source": [
    "print(type(rnn(emb(inp))[1]))\n",
    "print(len(rnn(emb(inp))[1]))"
   ]
  },
  {
   "cell_type": "code",
   "execution_count": 16,
   "id": "d60c1da7",
   "metadata": {},
   "outputs": [
    {
     "name": "stdout",
     "output_type": "stream",
     "text": [
      "<class 'torch.Tensor'>\n",
      "torch.Size([4, 5, 32])\n"
     ]
    }
   ],
   "source": [
    "print(type(rnn(emb(inp))[1][0]))\n",
    "print(rnn(emb(inp))[1][0].shape)"
   ]
  },
  {
   "cell_type": "markdown",
   "id": "5445819d",
   "metadata": {},
   "source": [
    "Why is the output above of shape (4,5,32)?\n",
    "\n",
    "32 is the hidden dim i.e. the dimensionality of the hidden state and the cell state in an LSTM\n",
    "\n",
    "5 is the number of sequences in the batch (if this is not convincing, try changing inp to have, say, 7 sequences)\n",
    "\n",
    "where does the 4 come from? Claim: The 4 = 2 (num_layers) * 2 (bidirectional) cell states\n",
    "\n",
    "Of course, we could have looked at the documentation:\n",
    "\n",
    "https://pytorch.org/docs/stable/generated/torch.nn.LSTM.html\n",
    "\n",
    "Outputs: outputs, (h_n, c_n)\n",
    "\n",
    "where \n",
    "\n",
    "outputs.shape = (number of examples, length of sequence, 2*hidden_dim)\n",
    "\n",
    "h_n.shape = (2*num_layers, number of examples, hidden_dim)\n",
    "\n",
    "c_n.shape = (2*num_layers, number of examples, hidden_dim)"
   ]
  },
  {
   "cell_type": "code",
   "execution_count": 17,
   "id": "2782f82d",
   "metadata": {},
   "outputs": [
    {
     "name": "stdout",
     "output_type": "stream",
     "text": [
      "<class 'torch.Tensor'>\n",
      "torch.Size([4, 5, 32])\n"
     ]
    }
   ],
   "source": [
    "print(type(rnn(emb(inp))[1][1]))\n",
    "print(rnn(emb(inp))[1][1].shape)"
   ]
  },
  {
   "cell_type": "markdown",
   "id": "7f1bb2e9",
   "metadata": {},
   "source": [
    "**Mock run**:\n",
    "    \n",
    "It's generally a good idea to pick one training point (X, y pair) and run through the operations manually before defining the network architecture."
   ]
  },
  {
   "cell_type": "code",
   "execution_count": 54,
   "id": "59dfcf5a",
   "metadata": {},
   "outputs": [
    {
     "name": "stdout",
     "output_type": "stream",
     "text": [
      "[9 6 9 7 8 0 2 0 7 4] 2 9\n"
     ]
    }
   ],
   "source": [
    "#step 1: look at data\n",
    "\n",
    "idx = 5\n",
    "\n",
    "X1 = train_data[0][idx, :]\n",
    "X2 = train_data[1][idx]\n",
    "y = train_target[idx]\n",
    "\n",
    "print(X1, X2, y)"
   ]
  },
  {
   "cell_type": "code",
   "execution_count": 70,
   "id": "37a54d2e",
   "metadata": {},
   "outputs": [
    {
     "data": {
      "text/plain": [
       "tensor([ 0.2865,  1.2568,  0.9385, -0.1796,  0.7032,  0.0619, -0.4192,  0.6867,\n",
       "         0.1354,  1.4492,  1.2120, -0.7873,  0.8069, -0.9271, -1.6105,  1.6214,\n",
       "        -0.2598, -1.5224, -1.7641, -1.2096,  1.4387,  0.7379,  1.2121,  0.7119,\n",
       "        -1.1277,  0.5871,  0.3826, -0.5249, -0.6335, -0.2726,  0.6579, -1.3908,\n",
       "        -0.5380,  1.6320, -1.2180,  0.2877,  0.9800,  0.0283,  0.6669,  0.4502,\n",
       "         0.0100,  0.9809, -1.2172,  0.3693, -0.7873,  0.0091,  0.5409,  0.8213,\n",
       "        -0.3427,  0.4027,  0.0768,  1.4327,  0.4103,  1.0460, -1.0206, -0.7051,\n",
       "         0.0530,  0.1897, -1.4639,  1.5928, -2.1853,  0.6629, -1.8533,  0.6728,\n",
       "         0.7878,  2.0742,  1.1128,  0.8676,  0.2749, -1.2283, -0.6369, -0.6804,\n",
       "         0.8569,  0.5500,  0.4963, -0.5683, -1.0289, -0.1171,  0.9441, -1.1648,\n",
       "        -0.0040, -0.4562, -1.8234, -0.4147,  1.0370,  0.6098,  0.2892,  0.0312,\n",
       "        -2.2091, -0.9449, -1.7238,  0.7487,  1.5384,  0.0851,  0.1721,  0.3418,\n",
       "        -1.2923, -1.4248,  0.2439,  0.5881, -1.0373,  1.1607,  0.1284, -0.3698,\n",
       "         0.4731,  0.7836, -1.0759, -0.4721,  1.6637, -0.5378, -0.5745, -1.5856,\n",
       "        -1.0785, -1.9428, -1.0630, -1.0122, -1.8489,  1.5225, -0.5994, -1.6981,\n",
       "         1.6604,  0.2030, -0.0144, -0.4690,  0.0136,  0.0297, -1.3194, -0.8097],\n",
       "       grad_fn=<EmbeddingBackward0>)"
      ]
     },
     "execution_count": 70,
     "metadata": {},
     "output_type": "execute_result"
    }
   ],
   "source": [
    "#step 2: compute embeddings for one element of input sequence\n",
    "low = 0\n",
    "high = 10\n",
    "\n",
    "embedding_dim = 128\n",
    "emb = nn.Embedding(num_embeddings=high-low, embedding_dim=128)\n",
    "\n",
    "emb(torch.from_numpy(X1)[3]) #can get embeddings for each element of X1"
   ]
  },
  {
   "cell_type": "code",
   "execution_count": 71,
   "id": "627becc1",
   "metadata": {},
   "outputs": [],
   "source": [
    "#step 3: compute hidden states for one step of input sequence\n",
    "o, (h_n,c_n) = rnn(emb(torch.from_numpy(X1)[3])[None,None,:]) #emb()[None, None, :] of shape (1,1,embedding_dim=128)"
   ]
  },
  {
   "cell_type": "code",
   "execution_count": 72,
   "id": "a670b04e",
   "metadata": {},
   "outputs": [
    {
     "name": "stdout",
     "output_type": "stream",
     "text": [
      "torch.Size([1, 1, 64])\n",
      "torch.Size([4, 1, 32])\n",
      "torch.Size([4, 1, 32])\n"
     ]
    }
   ],
   "source": [
    "print(o.shape)\n",
    "print(h_n.shape)\n",
    "print(c_n.shape)"
   ]
  },
  {
   "cell_type": "code",
   "execution_count": 83,
   "id": "5198ee4e",
   "metadata": {},
   "outputs": [
    {
     "name": "stdout",
     "output_type": "stream",
     "text": [
      "raw: torch.Size([10])\n",
      "raw unsqueeze: torch.Size([1, 10])\n",
      "emb: torch.Size([1, 10, 128])\n",
      "o: torch.Size([1, 10, 64])\n",
      "h: torch.Size([4, 1, 32])\n",
      "c: torch.Size([4, 1, 32])\n"
     ]
    }
   ],
   "source": [
    "#step 4: compute over full sequence\n",
    "print('raw:', torch.from_numpy(X1).shape) #(length of sequence)\n",
    "print('raw unsqueeze:', torch.from_numpy(X1)[None, :].shape) #(1, length of sequence) where 1 is the number of sequences\n",
    "print('emb:', emb(torch.from_numpy(X1)[None, :]).shape) #(1, length of sequence, embedding dim/input dim for rnn)\n",
    "\n",
    "o, (h,c) = rnn(emb(torch.from_numpy(X1)[None, :]))\n",
    "print('o:', o.shape) #(num of sequences = 1, length of sequence, 2 (bidirectional)*hidden_dim) #last layer, at every time-step\n",
    "print('h:', h.shape) #(bidirection*num_layers, num of sequences = 1, hidden_dim) - at last time-step\n",
    "print('c:', c.shape) #(bidirection*num_layers, num of sequences = 1, hidden_dim) - at last time-step"
   ]
  },
  {
   "cell_type": "code",
   "execution_count": 92,
   "id": "e6906001",
   "metadata": {},
   "outputs": [
    {
     "data": {
      "text/plain": [
       "tensor([-5.3350e-01, -4.7944e-01,  5.5247e-02,  1.9876e-01, -2.4190e+00,\n",
       "        -3.6725e-01,  2.1666e-01, -5.9951e-01,  1.0426e+00, -1.2349e+00,\n",
       "         6.1935e-01, -1.0120e+00,  3.1203e-01,  3.7609e-01,  1.2412e+00,\n",
       "        -5.1611e-01,  1.8683e+00,  2.4450e-01, -3.5375e-01, -2.4031e+00,\n",
       "         4.6394e-02,  1.2769e-01, -2.0894e+00, -1.6796e+00,  5.4427e-02,\n",
       "         1.0610e-01, -4.5504e-01, -1.8055e-01, -1.0285e-02,  5.4206e-02,\n",
       "         3.1796e-01, -1.8100e+00, -5.3404e-01,  2.4541e+00,  1.1919e+00,\n",
       "        -1.9942e-01, -7.7337e-02,  1.9762e-01, -1.0854e+00,  8.0994e-01,\n",
       "        -2.6244e-01,  3.9296e-01,  1.7814e+00,  1.2452e+00,  2.1180e-01,\n",
       "         4.9000e-01, -1.5497e+00, -4.1742e-01, -2.7240e-01, -8.8326e-01,\n",
       "         2.2839e-01,  7.8422e-01, -3.4529e-01, -8.4296e-01,  1.1689e+00,\n",
       "        -7.8080e-01,  9.7050e-01,  1.3604e+00,  1.8639e-02,  1.4517e-01,\n",
       "         4.9090e-01, -9.2188e-02, -9.4421e-01, -1.2284e+00,  5.7930e-01,\n",
       "         4.4399e-02,  6.6538e-01, -8.0282e-01,  1.2421e-01,  1.2137e+00,\n",
       "         4.1624e-01,  6.2465e-02,  8.7407e-01, -9.3965e-01, -5.1671e-01,\n",
       "         2.2974e+00, -3.6800e-01, -5.0316e-01, -8.8353e-01,  1.5571e-01,\n",
       "        -1.1422e+00, -1.0897e+00,  1.6773e+00,  1.6076e+00,  3.5779e-01,\n",
       "         2.1795e-03, -7.6845e-01, -5.4117e-01, -4.1616e-01,  7.4896e-01,\n",
       "         7.0247e-01,  6.7909e-02, -7.5984e-01, -1.4636e+00,  4.6757e-01,\n",
       "         1.2904e+00,  1.9805e+00, -4.9942e-01,  8.0922e-01, -2.3555e+00,\n",
       "         6.6323e-01,  9.3613e-01,  1.1209e+00,  2.0169e-01, -1.1519e+00,\n",
       "         9.5232e-02, -2.4284e-01,  5.6051e-01,  1.5291e+00,  9.3267e-01,\n",
       "        -3.0882e-01, -1.6441e+00, -6.6530e-02,  1.5712e-01,  2.6455e-01,\n",
       "        -6.6450e-01,  1.6878e+00, -1.3099e+00,  2.9080e-01, -8.4619e-01,\n",
       "        -8.8643e-01, -6.7696e-01, -1.2431e+00, -1.7826e+00, -1.5433e-01,\n",
       "        -6.0315e-01,  1.5434e-01,  7.4452e-01], grad_fn=<EmbeddingBackward0>)"
      ]
     },
     "execution_count": 92,
     "metadata": {},
     "output_type": "execute_result"
    }
   ],
   "source": [
    "#step 5: another embedding layer for index\n",
    "#note: it would make sense for us to emb the position of each element in the input sequence and match the embedding\n",
    "#of the index to the embeddings of the position\n",
    "#note 2: if instead, we were doing a \"semantic search\", then embeddings of the search token would make more sense\n",
    "\n",
    "\n",
    "\n",
    "emb_idx = nn.Embedding(num_embeddings=d, embedding_dim=128) #there are d unique index values\n",
    "\n",
    "emb_idx(torch.tensor(X2))"
   ]
  },
  {
   "cell_type": "code",
   "execution_count": 93,
   "id": "75fd37dd",
   "metadata": {},
   "outputs": [
    {
     "data": {
      "text/plain": [
       "tensor([ 0.1441, -1.5180,  0.3508,  0.6825, -0.2547, -0.4111, -0.2800,  0.4555,\n",
       "         0.0547, -0.2314, -0.2712,  0.1149,  0.2038, -0.6945, -0.0274, -0.2217,\n",
       "         0.3765, -0.1768,  0.7162,  0.5139,  0.1150, -0.3664, -1.0747,  0.1636,\n",
       "        -0.5181, -0.2264,  0.4199, -0.4615,  0.1972,  0.7091,  0.8343,  0.3293,\n",
       "         0.1147, -0.1345,  0.9108,  0.3850, -0.7291,  0.7860, -0.2947,  0.1495,\n",
       "        -0.0828, -0.3305, -0.2554, -0.3984, -0.4137, -0.1197,  0.8194, -0.7236,\n",
       "         0.9047, -0.0740, -0.4342, -0.2027, -0.2191,  0.0045,  0.0581, -0.7468,\n",
       "        -0.3336, -1.3374,  0.3314, -0.0208,  0.1066, -0.7961, -0.3307,  0.0099],\n",
       "       grad_fn=<AddBackward0>)"
      ]
     },
     "execution_count": 93,
     "metadata": {},
     "output_type": "execute_result"
    }
   ],
   "source": [
    "#step 6: learn a dense layer to map embedding of idx and compare to output values for a sequence\n",
    "\n",
    "attn_lin = nn.Linear(128, 64) #128 is embedding_dim, 64 is bidirectional * hidden_dim (32)\n",
    "attn_lin(emb_idx(torch.tensor(X2)))"
   ]
  },
  {
   "cell_type": "code",
   "execution_count": 125,
   "id": "07b36105",
   "metadata": {},
   "outputs": [
    {
     "name": "stdout",
     "output_type": "stream",
     "text": [
      "a: torch.Size([1, 64])\n",
      "o: torch.Size([1, 10, 64])\n",
      "energies: torch.Size([1, 1, 10])\n",
      "energies: torch.Size([1, 10])\n",
      "tensor([[-0.0437, -0.0739, -0.3028, -0.5683, -0.8043, -0.8653, -0.9179, -0.3863,\n",
      "         -0.5125, -0.5787]], grad_fn=<SqueezeBackward1>)\n",
      "scores: torch.Size([1, 10])\n",
      "tensor([[0.1520, 0.1475, 0.1173, 0.0899, 0.0710, 0.0668, 0.0634, 0.1079, 0.0951,\n",
      "         0.0890]], grad_fn=<DivBackward0>)\n",
      "out: torch.Size([1, 64])\n"
     ]
    }
   ],
   "source": [
    "#step 7: compute attention scores\n",
    "\n",
    "#7a: compute dot product of attn_lin(emb_idx()) with output\n",
    "\n",
    "a = attn_lin(emb_idx(torch.tensor(X2))).unsqueeze(0) #in general, will be of shape (num sequences, 64)\n",
    "print('a:', a.shape)\n",
    "\n",
    "print('o:', o.shape)\n",
    "energies = torch.tensordot(a, o, dims=([1], [2]))\n",
    "print('energies:', energies.shape)\n",
    "energies = energies.squeeze(1)\n",
    "print('energies:', energies.shape) #(num sequences, length of sequence)\n",
    "print(energies)\n",
    "\n",
    "#7b: compute attention scores\n",
    "scores = torch.exp(energies)\n",
    "scores /= scores.sum(dim=1)\n",
    "print('scores:', scores.shape)\n",
    "print(scores)\n",
    "\n",
    "assert(scores.sum(dim=1).mean()==1)\n",
    "\n",
    "out = torch.tensordot(o, scores, dims=([1], [1])).squeeze(2)\n",
    "print('out:', out.shape)"
   ]
  },
  {
   "cell_type": "code",
   "execution_count": 129,
   "id": "514f53d9",
   "metadata": {},
   "outputs": [
    {
     "data": {
      "text/plain": [
       "tensor([[0.1066, 0.0964, 0.1038, 0.0942, 0.0937, 0.0999, 0.1057, 0.1049, 0.1068,\n",
       "         0.0881]], grad_fn=<SoftmaxBackward0>)"
      ]
     },
     "execution_count": 129,
     "metadata": {},
     "output_type": "execute_result"
    }
   ],
   "source": [
    "#step 8: use out as input to small MLP to predict actual output\n",
    "\n",
    "out_layer = nn.Linear(64, high-low)\n",
    "out_activation = nn.Softmax(dim=1)\n",
    "out_activation(out_layer(out)) #actual probability that input_seq[input_idx] takes each value between high-low"
   ]
  },
  {
   "cell_type": "markdown",
   "id": "0f3865aa",
   "metadata": {},
   "source": [
    "### Putting it all together\n",
    "\n",
    "It is time to put these 8 steps together in one architecture. It's good practice to put assertions and sanity checks since we are composing many operatio"
   ]
  },
  {
   "cell_type": "code",
   "execution_count": 53,
   "id": "17cc47fc",
   "metadata": {},
   "outputs": [],
   "source": [
    "class Net(nn.Module):\n",
    "    def __init__(self):\n",
    "        super().__init__(low, high, emb_dim, hidden_size, num_layers=1)\n",
    "        \n",
    "        self.low = low\n",
    "        self.high = high\n",
    "        self.emb_dim = emb_dim\n",
    "        \n",
    "        self.emb = nn.Embedding(num_embeddings=high-low, embedding_dim=emb_dim)\n",
    "        \n",
    "        #see: https://pytorch.org/docs/stable/generated/torch.nn.LSTM.html\n",
    "        self.rnn = nn.LSTM(input_size = embedding_dim,\n",
    "                           hidden_size = hidden_size,\n",
    "                           num_layers = num_layers,\n",
    "                           batch_first = True, #expect (batch, seq, feature)\n",
    "                           dropout = 0.5,\n",
    "                           bidirectional=True                             \n",
    "                          )\n",
    "        \n",
    "        self.pred = nn.Linear(2*hidden_size, high-low)\n",
    "        \n",
    "    def forward(self, x):\n",
    "        out, (h_n, c_n) = self.rnn(x)\n",
    "        \n",
    "        #use the bidirectional hidden states from the last layer "
   ]
  },
  {
   "cell_type": "code",
   "execution_count": null,
   "id": "0ad076d9",
   "metadata": {},
   "outputs": [],
   "source": []
  },
  {
   "cell_type": "code",
   "execution_count": null,
   "id": "eb89f81f",
   "metadata": {},
   "outputs": [],
   "source": []
  },
  {
   "cell_type": "code",
   "execution_count": null,
   "id": "4b52cc82",
   "metadata": {},
   "outputs": [],
   "source": []
  },
  {
   "cell_type": "markdown",
   "id": "471c4bae",
   "metadata": {},
   "source": [
    "## Appendix"
   ]
  },
  {
   "cell_type": "markdown",
   "id": "6239a310",
   "metadata": {},
   "source": [
    "Seq2Seq (sequence to sequence) nets map an arbitrary length input sequence to an arbitrary length output sequence. If one wanted to map an arbitrary length input sequence to an output sequence of the same length, then one can use one RNN/LSTM."
   ]
  },
  {
   "cell_type": "markdown",
   "id": "6bb96044",
   "metadata": {},
   "source": [
    "### Seq2Seq paper: https://arxiv.org/pdf/1409.3215.pdf"
   ]
  },
  {
   "cell_type": "markdown",
   "id": "3f5a8e85",
   "metadata": {},
   "source": [
    "**Core idea**:\n",
    "\n",
    "* Use LSTM (encoder) with multiple layers (\"deep\") to map input sequence -> vector of fixed dimensionality.\n",
    "\n",
    "* Use another LSTM (decoder) with multiple layers to generate output sequence starting from vector of fixed dimensionality produced by encoder.\n",
    "\n",
    "* Additional trick that improves performance significantly: feed both the input sequence and reversed input sequence (bidirectional) to the encoder."
   ]
  },
  {
   "cell_type": "markdown",
   "id": "7a5e6564",
   "metadata": {},
   "source": [
    "**Core idea figure**:\n",
    "\n",
    "![Seq2Seq](seq2seq.png)"
   ]
  },
  {
   "cell_type": "markdown",
   "id": "ccefc4e6",
   "metadata": {},
   "source": [
    "**Example applications where input/output values are sequences of varying lengths**:\n",
    "\n",
    "* Speech recognition: audio -> text\n",
    "\n",
    "* Machine translation: text -> text\n",
    "\n",
    "* Question answering: text -> text"
   ]
  },
  {
   "cell_type": "markdown",
   "id": "3e0ce797",
   "metadata": {},
   "source": [
    "**How to think about the encoder-decoder architecture**:\n",
    "\n",
    "Encoder: Read input tokens one at a time and generate compressed context vector of fixed dimensionality.\n",
    "\n",
    "Decoder: Conditioned on context vector, generate sequences. In other words, all information about the input sequence is passed to the decoder through the context vector."
   ]
  },
  {
   "cell_type": "markdown",
   "id": "554dcf12",
   "metadata": {},
   "source": [
    "**Model architecture**:\n",
    "\n",
    "* LSTMs instead of RNNs\n",
    "\n",
    "* Two different LSTMs are used i.e. the same LSTM weights are not used for the encoder and the decoder\n",
    "\n",
    "* Multi-layer LSTMs are used: 4 layers\n",
    "\n",
    "* Order of tokens/words is reversed in input sequence i.e. instead of mapping: a,b,c -> $\\alpha,\\beta,\\gamma$, map c,b,a -> $\\alpha, \\beta, \\gamma$ so that a is closer to $\\alpha$, b is closer to $\\beta$. But note that now c is further away from $\\gamma$"
   ]
  },
  {
   "cell_type": "markdown",
   "id": "9842424f",
   "metadata": {},
   "source": [
    "**Dataset details**: To get a sense of scale\n",
    "\n",
    "Trained on 12 million sentences\n",
    "\n",
    "Total unique French words: 384 million\n",
    "\n",
    "Total unique English words: 304 million\n",
    "\n",
    "For predictions, output space of words was restricted to 160k words in the source language (English) and 80k words in the target language (French). If word not in vocabulary, replace by special unknown token, UNK."
   ]
  },
  {
   "cell_type": "markdown",
   "id": "e5f3f938",
   "metadata": {},
   "source": [
    "**Training details**:\n",
    "\n",
    "loss = $\\frac{1}{\\mid \\mathcal{S} \\mid} \\Sigma_{(T,S)\\in\\mathcal{S}} \\log p(T|S)$\n",
    "\n",
    "where $\\mathcal{S}$ is the training set.\n",
    "\n",
    "In other words, for each training example, the source sentence S is used to predict the target sentence T. For each token in the prediction, we know the actual/label token that should have been predicted. Compute the log probability for the label token and add them up over the target sentence tokens. Average these across each example in the training set.\n",
    "\n",
    "* LSTMs: 4 layers, 1000 cells (hidden_dim), 1000 dimensional word embeddings (embedding_dim), input vocabulary size = 160k, output vocabulary size = 80k.\n",
    "\n",
    "* LSTM weights ~ uniform(-0.08, 0.08)\n",
    "\n",
    "* SGD without momentum, lr = 0.7 for first 5 epochs and halve lr every half epoch\n",
    "\n",
    "* Total training time = 7.5 epochs\n",
    "\n",
    "* Batch size = 128\n",
    "\n",
    "* For each batch, compute $s = \\Vert g \\Vert_2 / 128$ where g = gradient. If $s > 5$, set $g = \\frac{5g}{s}$ i.e. if length of vector exceeds 5, rescale to make length = 5.\n",
    "\n",
    "* Most sentences are short (20-30 tokens) and some are long (>100 tokens). Make sure sentences in each batch are roughly the same length to avoid wasted computation.\n",
    "\n",
    "* Use model parallelism with different layers on different GPUs. Note this paper was written before TensorFlow, PyTorch, Theano (?) etc.\n",
    "\n",
    "**Prediction/inference details**:\n",
    "\n",
    "Beam search with size = 1 or 2 works well. In detail, the decoder is used to predict a probability distribution over all possible tokens at each time-step. Since the output of the decode at time t is the input to the decoder at time t+1, we need a sample from the distribution. \n",
    "\n",
    "Ideally, we want the output sequence to be such that the sum of the log probabilities of the sampled tokens is maximized. This is not the same as a greedy sampling strategy. Beam search keeps track of the top k running sums of log probabilities."
   ]
  },
  {
   "cell_type": "markdown",
   "id": "95e43358",
   "metadata": {},
   "source": [
    "**Questions**:\n",
    "\n",
    "* While training, how should the hidden state of the encoder be initialized?\n",
    "    * Zeros for each batch\n",
    "    * Make hidden state initialization learned?\n",
    "    * Keep hidden state evolving as batches get processed? This sounds troublesome since the implication is the order in which sequences are processed, matters."
   ]
  },
  {
   "cell_type": "markdown",
   "id": "dff8c9aa",
   "metadata": {},
   "source": [
    "### Seq2Seq + Attention paper: https://arxiv.org/pdf/1409.0473.pdf"
   ]
  },
  {
   "cell_type": "markdown",
   "id": "aea78baf",
   "metadata": {},
   "source": [
    "**Core idea**:\n",
    "\n",
    "* In the encoder-decoder setup, some tokens in the decoder/output sequence are far away from the corresponding tokens in the encoder/input sequence.\n",
    "\n",
    "* Since all context about the input is compressed into the context vector, it might lose information about earlier tokens. In other words, the context vector can be an information bottleneck.\n",
    "\n",
    "* This manifests itself as poor performance when the length of the input sequence gets long (longer than training data sequences).\n",
    "\n",
    "* Can each token in the decoder be allowed to search for relevant tokens in the input sentence? This search has to be soft i.e. predict probabilities over the input sequence rather than hard choices.\n",
    "\n",
    "* In this paper, a mechanism (attention) is introduced where, at each time-step in the decoder, a soft search over all hidden states in the encoder is carried out. This search is used to generate a new appropriate context vector that focuses on subsets of the input sequence. In other words, there is no need to encode the full input sequence into *one* context vector. Instead each input sequence is encoded into a sequence of vectors and during decoding, a soft search is carried out over this sequence of vectors."
   ]
  },
  {
   "cell_type": "markdown",
   "id": "7b7edcce",
   "metadata": {},
   "source": [
    "**Note**: \n",
    "\n",
    "While in the previous paper, the final hidden state in the decoder, $h_T$ is used as a context vector, as this paper suggests, one could generalize to:\n",
    "\n",
    "$$c = q({h_1, \\ldots, h_T})$$\n",
    "\n",
    "i.e. the context vector is some (fixed) function of all the hidden states."
   ]
  },
  {
   "cell_type": "markdown",
   "id": "27bc57bc",
   "metadata": {},
   "source": [
    "**Core idea figure**:\n",
    "\n",
    "![Model](seq2seq_attention.png)"
   ]
  },
  {
   "cell_type": "markdown",
   "id": "d39db22c",
   "metadata": {},
   "source": [
    "The $x_t$ are the input tokens to the encoder. The $h_t$ are the hidden states (bidirectional). The key difference is the computation of the decoder's hidden state at time t, $s_t$.\n",
    "\n",
    "In the classic encoder-decoder picture, $s_t = f(s_{t-1}, y_{t-1})$. In this model,\n",
    "\n",
    "$$s_t = f(s_{t-1}, y_{t-1}, h_{1}, h_{2}, \\ldots, h_T)$$\n",
    "\n",
    "where $f()$ sloppily refers to \"some function\" (not the same one in both computations). So, now the computation has direct access to each encoder hidden state."
   ]
  },
  {
   "cell_type": "markdown",
   "id": "f9441aa2",
   "metadata": {},
   "source": [
    "**Precise formulation**:\n",
    "\n",
    "Given an input sequence S, of length T, the encoder produces hidden states, $h_1, \\ldots, h_T$.\n",
    "\n",
    "These hidden states are used to compute a context vector, $c$. In the seq2seq paper, $c = h_T$.\n",
    "\n",
    "The decoder conditions on the context vector i.e. it intializes its hidden state, $s_0$ so that $s_0 = c$.\n",
    "\n",
    "\n",
    "The first token is a special SOS (start of sentence) token and is passed as the first input $y_0$. The decoder hidden state is updated:\n",
    "\n",
    "$$s_1 = f(s_0, y_0)$$\n",
    "\n",
    "which is used to compute the probability distribution over the vocabulary:\n",
    "\n",
    "$$p(y_1\\mid y_0, c) = g(s_1)$$\n",
    "\n",
    "\n",
    "For any time t,\n",
    "\n",
    "$$\\boxed{s_t = f(s_{t-1}, y_{t-1})}$$\n",
    "\n",
    "and $$\\boxed{p(y_t\\mid y_0,\\ldots, y_{t-1}, c) = g(s_{t})}$$\n",
    "\n",
    "Both of these equations implictly depend on the context vector $c$ since every calculation depends on $s_0 = c$. We make this explicit:\n",
    "\n",
    "$$\\boxed{s_t = f(s_{t-1}, y_{t-1}, c)}$$\n",
    "\n",
    "and $$\\boxed{p(y_t\\mid y_0,\\ldots, y_{t-1}, c) = g(s_{t}, c)}$$\n",
    "\n",
    "One way of looking at attention is to make $c$ dependent on time t, i.e.:\n",
    "\n",
    "$$\\boxed{s_t = f(s_{t-1}, y_{t-1}, c_t)}$$\n",
    "\n",
    "and $$\\boxed{p(y_t\\mid y_0,\\ldots, y_{t-1}) = g(s_{t}, c_t)}$$\n",
    "\n",
    "\n",
    "This implies an order of computation:\n",
    "\n",
    "* Compute $c_t$ which is the context vector at time t.\n",
    "\n",
    "* Compute hidden state $s_t$ from $c_t, s_{t-1}, y_{t-1}$.\n",
    "\n",
    "* Compute prob distribution from $s_t, c_t$.\n",
    "\n",
    "The context vector, instead of being just $h_T$ (last hidden vector in the encoder) is now generalized to a linear (convex) combination of all encoder hidden vectors:\n",
    "\n",
    "$$c_t = \\Sigma_{j} \\alpha_{tj}h_j$$\n",
    "\n",
    "where $\\alpha_{tj}$ can be interpreted as probabilities as shown below.\n",
    "\n",
    "$$\\alpha_{tj} = \\frac{e^{e_{tj}}}{\\Sigma_{k}e^{e_{tk}}}$$\n",
    "\n",
    "This is essentially a Boltzmann probability or you can think of $e_{tj}$ as the energy of the $j$th configuration, the exponential ensures that $\\alpha_{tj} > 0$ and the denominator ensures the $\\alpha_{tj}$ add up to 1 (when summed over $j$). \n",
    "\n",
    "The next question is how $e_{tj}$ is computed and there are many choices here. In general, $e_{tj} = a(s_{t-1}, h_j)$. Note that $e_{tj}$ is computed before $s_t$ and hence depends on $s_{t-1}$ and not $s_t$. In words, \"based on what the decoder has generated so far till time t-1 and the summary encoded in $s_{t-1}$, what information can be gathered from the encoder's hidden states to compute the next hidden state $s_t$ so the next token can be computed\".\n",
    "\n",
    "**Open question**: what would happen if $s_t$ were used to compute $c_t$?\n"
   ]
  },
  {
   "cell_type": "markdown",
   "id": "173b8d69",
   "metadata": {},
   "source": [
    "**Model architecture**:\n",
    "\n",
    "Encoder: Bidirectional RNN (LSTM etc.)\n",
    "\n",
    "Decoder: RNN (LSTM etc.) + Attention as described above\n",
    "\n",
    "Loss: multi-class log loss/cross-entropy\n",
    "\n",
    "Decoding strategy: Beam search\n",
    "\n",
    "Optimizer: Adadelta (training time for paper's model ~ 5 days on what hardware?)"
   ]
  },
  {
   "cell_type": "markdown",
   "id": "97843784",
   "metadata": {},
   "source": [
    "**Model details**: (See appendix)\n",
    "\n",
    "**RNN**: Use LSTM or GRUs i.e. architectures that let one learn long-term dependencies since there are connections where the gradient is close to 1.\n",
    "\n",
    "Recall $s_t = f(s_{t-1}, y_{t-1}, c_t)$ with a time-dependent context.\n",
    "\n",
    "The precise computation used here is:\n",
    "\n",
    "$$s_t = f(s_{t-1}, y_{t-1}, c_t) = (1-z_t) \\odot s_{t-1} + z_t \\odot \\tilde{s}_t$$\n",
    "\n",
    "where $\\odot$ is element-wise multiplication, $z_t$ is the output of the update gates in the LSTM/GRU unit.\n",
    "\n",
    "One way to think of this computation is as follows:\n",
    "\n",
    "$z_t$ is a vector of numbers between 0 and 1 and hence is a soft mask or a vector of probabilities. It thereforce keeps elements of the previous state $s_{t-1}$ with probability $1-z_t$ and updates them with elements of a new hidden state candidate, $\\tilde{s}_t$ with probability $z_t$.\n",
    "\n",
    "The new candidate is defined to be:\n",
    "\n",
    "$$\\tilde{s}_t = \\tanh(W e(y_{t-1}) + U [r_t \\odot s_{t-1}] + C c_t)$$\n",
    "\n",
    "Note that apart from using the reset gate, $r_t$, this is the usual computation of a hidden unit where $e(y_{t-1})$ is the embedding of the token from time $t-1$. At its simplest, this embedding is just one-hot encoding.\n",
    "\n",
    "The two gates are computed using the same logic as any hidden recurrent unit:\n",
    "\n",
    "$$z_t = \\sigma(W_z e(y_{t-1}) + U_z s_{t-1} + C_z c_t)$$\n",
    "\n",
    "$$r_t = \\sigma(W_r e(y_{t-1}) + U_r s_{t-1} + C_r c_t)$$\n",
    "\n",
    "and $\\sigma$ is the sigmoid function to get values in range $(0,1)$.\n",
    "\n",
    "**Computation of c_t**:\n",
    "\n",
    "Recall that the context vector is a convex combination of the encoder's hidden states:\n",
    "\n",
    "$$c_t = \\Sigma_{j=1}^{T_x} \\alpha_{tj} h_j$$ \n",
    "\n",
    "where the weights $\\alpha_{tj}$ are computed using Boltzmann probabilities:\n",
    "\n",
    "$$\\alpha_{tj} = \\frac{\\exp(e_{tj})}{\\Sigma_k \\exp(e_{tk})}$$\n",
    "\n",
    "and the energies, $e_{tj}$ are:\n",
    "\n",
    "$$e_{tj} = a(s_{t-1}, h_j)$$\n",
    "\n",
    "There are many choices for $a()$. The one made by this paper is:\n",
    "\n",
    "$$e_{tj} = a(s_{t-1}, h_j) = v_a^T \\tanh(W_a s_{t-1} + U_a h_j)$$\n",
    "\n",
    "Here, $v_a, W_a, U_a$ are learned parameters. You can think of $e_{tj}$ as a similarity score between $s_{t-1}$ and $h_j$. The matrices $W_a$ and $U_a$ map $s_{t-1}$ and $h_j$ respectively, to the same vector space so they can be added together. Note, another simple choice could be:\n",
    "\n",
    "$$e_{tj} = s_{t-1}^T W_a h_j$$\n"
   ]
  },
  {
   "cell_type": "markdown",
   "id": "59001633",
   "metadata": {},
   "source": [
    "**Training details**: \n",
    "\n",
    "* All recurrent weight matrices are initialized as random orthogonal matrices ($U^T U = I$)\n",
    "\n",
    "* $W_a$ and $U_a$ have each element drawn from a gaussian distribution, $\\mathcal{N}(0, 0.001^2)$\n",
    "\n",
    "* Biases and $V_a$ were initialized to zero.\n",
    "\n",
    "* Any other weight matrices had elements drawn from $\\mathcal{N}(0, 0.01^2)$\n",
    "\n",
    "* Adadelta (adaptive SGD algorithm) was used with parameters ($\\epsilon = 10^{-6}$ and $\\rho = 0.95$)\n",
    "\n",
    "* Gradients were restricted to be at most of $L_2$ norm = 1\n",
    "\n",
    "* Batch size = 80 sentences\n",
    "\n",
    "* Every 20th update, 20*80 = 1600 sentences were retrieved, sorted by sequence length and split into 20 batches for the next 20 updates. This is because the time spent on a batch was proportional to the length of the longest sequence.\n",
    "\n",
    "* Training data shuffled once before training"
   ]
  },
  {
   "cell_type": "code",
   "execution_count": null,
   "id": "cec27d15",
   "metadata": {},
   "outputs": [],
   "source": []
  }
 ],
 "metadata": {
  "kernelspec": {
   "display_name": "Python 3 (ipykernel)",
   "language": "python",
   "name": "python3"
  },
  "language_info": {
   "codemirror_mode": {
    "name": "ipython",
    "version": 3
   },
   "file_extension": ".py",
   "mimetype": "text/x-python",
   "name": "python",
   "nbconvert_exporter": "python",
   "pygments_lexer": "ipython3",
   "version": "3.9.10"
  },
  "toc": {
   "base_numbering": 1,
   "nav_menu": {},
   "number_sections": true,
   "sideBar": true,
   "skip_h1_title": false,
   "title_cell": "Table of Contents",
   "title_sidebar": "Contents",
   "toc_cell": false,
   "toc_position": {},
   "toc_section_display": true,
   "toc_window_display": false
  }
 },
 "nbformat": 4,
 "nbformat_minor": 5
}
