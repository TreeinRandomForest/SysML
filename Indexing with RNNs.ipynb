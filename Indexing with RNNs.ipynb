{
 "cells": [
  {
   "cell_type": "code",
   "execution_count": 1,
   "id": "aaa00763",
   "metadata": {},
   "outputs": [],
   "source": [
    "%load_ext autoreload\n",
    "%autoreload 2\n",
    "%matplotlib inline\n",
    "\n",
    "import torch\n",
    "import torch.nn as nn\n",
    "import torch.optim as optim\n",
    "import matplotlib.pylab as plt\n",
    "import numpy as np\n",
    "\n",
    "from torch.utils.data import Dataset, DataLoader\n",
    "\n",
    "device = 'cuda:0' if torch.cuda.is_available() else \"cpu\"\n",
    "\n",
    "def gen_data(N=100, d=10, low=0, high=10):\n",
    "    data = np.random.randint(low=low, high=high, size=(N,d))\n",
    "    \n",
    "    target_idx = np.random.randint(low=0, high=d, size=N).reshape(data.shape[0], 1)\n",
    "    \n",
    "    full_data = np.hstack((data, target_idx))\n",
    "    \n",
    "    y = data[np.arange(data.shape[0]), target_idx[:,0]]\n",
    "    \n",
    "    return full_data, y\n",
    "\n",
    "N = 5000\n",
    "low = 0 \n",
    "high = 10\n",
    "d = 10\n",
    "\n",
    "train_data, train_target = gen_data(N=N, low=low, high=high, d=d)\n",
    "test_data, test_target = gen_data(N=N, low=low, high=high, d=d)"
   ]
  },
  {
   "cell_type": "code",
   "execution_count": 3,
   "id": "480e2293",
   "metadata": {},
   "outputs": [
    {
     "name": "stdout",
     "output_type": "stream",
     "text": [
      "(5000, 11)\n",
      "(5000,)\n"
     ]
    }
   ],
   "source": [
    "print(train_data.shape) #last column is the actual index value and not part of the array\n",
    "print(train_target.shape)"
   ]
  },
  {
   "cell_type": "markdown",
   "id": "d87bf706",
   "metadata": {},
   "source": [
    "## Recurrent Neural Networks (RNN)"
   ]
  },
  {
   "cell_type": "markdown",
   "id": "39d26218",
   "metadata": {},
   "source": [
    "An RNN will process a sequence of tokens. The pseudocode is something like the following:\n",
    "\n",
    "token_list = [...]\n",
    "\n",
    "hidden_vec = [0, ..., 0] #some fixed length or dimensionality\n",
    "\n",
    "for token in token_list:\n",
    "\n",
    "#lookup vector for each token from a hash table\n",
    "    token_vec = embedding_table[token]\n",
    "    \n",
    "    #use previous hidden_vec and current token_vec to update hidden_vec\n",
    "    #this is updating the state (hidden_vec) of the net using the new token\n",
    "    \n",
    "    hidden_vec = update(hidden_vec/previous state, token_vec/new data)\n",
    "    \n",
    "after the loop, hidden_vec encodes all the information about the input sequence and can be used to make a prediction\n",
    "\n",
    "prediction = pred(hidden_vec)\n",
    "\n",
    "for us, this could also be\n",
    "\n",
    "prediction = pred(hidden_vec, index)\n",
    "\n",
    "if the task is to predict the entry at a particular index"
   ]
  },
  {
   "cell_type": "markdown",
   "id": "73b5079b",
   "metadata": {},
   "source": [
    "### Embedding"
   ]
  },
  {
   "cell_type": "markdown",
   "id": "832e2afe",
   "metadata": {},
   "source": [
    "Suppose, we were working with natural text where the tokens were words. To feed in a word like \"apple\" to a neural network, we need to \"numericalize\" (i.e. convert it to a number) it.\n",
    "\n",
    "The simplest solution is to map each unique token to a unique integer. For example:\n",
    "\n",
    "\"apple\" -> 0\n",
    "\n",
    "\"is\" -> 1\n",
    "\n",
    "\"a\" -> 2\n",
    "\n",
    "etc.\n",
    "\n",
    "Note that the only requirement is that this mapping is one-to-one i.e. different words are mapped to different integers. The actual mapping, i.e. whether \"apple\" -> 0 or \"apple\" -> 59, doesn't matter.\n",
    "\n",
    "Are there any problems with this encoding of tokens? One immediate problem is that it imposes an ordering on the tokens. \"apple\" is not less than \"a\" but 2 < 0. Depending on the machine learning model used, this ordered encoding can induce artifacts that are not real.\n",
    "\n",
    "The solution to this problem is the so-called one-hot encoding. Suppose, there are N distinct words. Each word is mapped to a vector of size N where exactly one entry is 1 and the rest are zeros. Suppose, N = 3. Then,\n",
    "\n",
    "\"apple\" -> [1,0,0]\n",
    "\n",
    "\"is\" -> [0,1,0]\n",
    "\n",
    "\"a\" -> [0,0,1]\n",
    "\n",
    "Now, there is no order imposed on the tokens. Each vector is orthogonal to all other vectors (the dot product of vectors corresponding to distinct words is 0). This creates a couple of problems. If the number of tokens is large, the dimensionality N will also be large and this has implications for memory usage. Another problem is more conceptual. While each word is distinct (by definition) from every other word, words are not distinct by meaning. \"apple\" and \"mango\" are similar in the sense that they are both fruits but they are clearly also distinct (winter vs summer fruit etc.). Since vectors can be used to encode similarity, is it possible to map tokens to vectors such that (a) similar meaning words map to similar vectors and (b) dissimilar meaning words map to dissimilar vectors.\n",
    "\n",
    "This is the problem embeddings solve. The philosophy in neural networks is to map each token to a unique vector is a relatively small (compared to the number of distinct tokens, N) dimensional (128 below) vector space. The embeddings are initialized randomly but are also adjusted during the learning process using the same exact process used to adjust/learn weights i.e. by computing derivatives and using gradient descent."
   ]
  },
  {
   "cell_type": "code",
   "execution_count": 4,
   "id": "e905cb6b",
   "metadata": {},
   "outputs": [],
   "source": [
    "embedding_dim = 128\n",
    "emb = nn.Embedding(num_embeddings=high-low, embedding_dim=128)"
   ]
  },
  {
   "cell_type": "code",
   "execution_count": 5,
   "id": "e5cf9a19",
   "metadata": {},
   "outputs": [
    {
     "data": {
      "text/plain": [
       "tensor([-0.3918, -0.6373, -0.8113,  0.2519, -0.3519,  0.4024, -1.1288,  0.6661,\n",
       "        -0.8958,  0.7001,  0.4887,  0.4027,  0.1288, -0.2826,  0.0364, -0.3935,\n",
       "        -2.2745, -0.3691, -0.5695,  1.5766,  1.2822,  0.2749,  0.5923, -0.8890,\n",
       "        -0.3199, -0.0898, -1.5703, -0.0599, -1.2483, -0.2472, -2.0897, -0.6666,\n",
       "         0.7823,  0.8774, -0.8821,  1.3262,  1.0711,  2.0980,  0.6395,  0.6409,\n",
       "        -0.3697, -0.4221,  1.2883, -1.9491,  2.0402,  0.8335, -0.3520,  0.9156,\n",
       "         0.1628, -0.7885,  0.8879,  0.1549,  0.1237, -0.8269,  0.9283, -0.4193,\n",
       "        -1.9860,  1.1610, -0.4807,  0.0164, -0.0211, -0.4337,  0.2119,  1.4820,\n",
       "         0.0315,  0.0368,  0.8750, -0.1973,  2.4304, -1.5006, -0.1669,  0.1865,\n",
       "        -1.4588,  0.9566, -0.8473,  0.0197, -1.6236, -1.9417, -0.9816,  0.0169,\n",
       "        -0.0181, -0.2265, -0.3796, -1.1109,  0.8330,  1.0011, -1.2747, -0.3230,\n",
       "        -0.3395,  1.2664,  0.9939, -0.4908, -1.1948, -1.1860, -1.0584, -0.5567,\n",
       "        -0.5913, -0.8910, -0.2228, -0.9754, -0.5231, -0.9645, -0.7650, -0.1304,\n",
       "        -0.1202,  1.2293, -0.7063,  1.0370,  0.4756,  0.2962,  0.2259, -1.1937,\n",
       "        -1.4424,  1.2716, -1.1131,  1.0528, -1.1943,  0.3019,  0.5995, -0.1622,\n",
       "         0.5139,  1.8351,  0.0169, -0.1037, -1.4120,  0.5158,  0.4699, -1.8205],\n",
       "       grad_fn=<EmbeddingBackward0>)"
      ]
     },
     "execution_count": 5,
     "metadata": {},
     "output_type": "execute_result"
    }
   ],
   "source": [
    "#can now look up embedding vectors based on input token (any value between low and high-1)\n",
    "\n",
    "emb(torch.tensor(0))"
   ]
  },
  {
   "cell_type": "code",
   "execution_count": 6,
   "id": "d346de8e",
   "metadata": {},
   "outputs": [
    {
     "data": {
      "text/plain": [
       "tensor([-0.4509, -1.4276, -0.6467,  1.9943,  0.1649,  0.1248, -0.5706,  0.5503,\n",
       "        -0.1808, -0.3603, -0.1499, -0.3201,  0.5861, -0.7752, -0.4003, -0.5165,\n",
       "         0.0531,  0.6644,  0.0144, -0.0436,  0.0724,  0.6407,  2.6515,  1.0553,\n",
       "        -0.5104, -0.0490, -0.6826,  0.0925,  0.6601,  1.4830,  1.5511,  0.3046,\n",
       "         0.5365,  1.0345, -0.0312,  1.0651,  1.4084,  0.2595, -1.6388,  1.1934,\n",
       "         0.2766,  0.5385, -1.9841, -2.0132,  0.1946, -1.1894, -0.3689,  0.6136,\n",
       "        -0.7481, -0.0743, -1.1233,  0.3211, -1.3258,  0.5950, -1.4620, -0.7766,\n",
       "        -0.6766, -0.7717, -0.3823,  0.4503,  0.5879, -0.0934, -0.1321,  0.7808,\n",
       "         0.5330,  1.2739,  0.8692,  0.3868, -0.0852,  1.1991, -1.8543, -1.5108,\n",
       "        -1.6068,  0.5841,  0.0215, -0.3011,  0.4327,  0.7921, -0.5098, -0.3243,\n",
       "        -1.0382, -1.3674, -0.1646,  1.8569,  1.7682, -0.3090, -1.3120, -0.8207,\n",
       "        -0.4762, -0.0282, -0.3187,  1.8161,  0.2061, -0.7249, -0.3515, -1.1111,\n",
       "         0.3280,  0.6944, -0.6845, -1.6450, -1.7321, -0.8741,  1.4098, -0.8574,\n",
       "         0.1713,  1.3402,  0.5436,  0.2015, -1.1060,  0.1181, -0.2246, -1.3559,\n",
       "        -0.6422, -1.2739,  0.8042, -1.3975, -1.4491, -1.9620, -0.9415, -0.0439,\n",
       "         0.1154,  0.1767,  0.1065, -0.2757, -0.5173, -0.3354, -1.5959, -1.0586],\n",
       "       grad_fn=<EmbeddingBackward0>)"
      ]
     },
     "execution_count": 6,
     "metadata": {},
     "output_type": "execute_result"
    }
   ],
   "source": [
    "emb(torch.tensor(high-1))"
   ]
  },
  {
   "cell_type": "code",
   "execution_count": 7,
   "id": "7908585c",
   "metadata": {},
   "outputs": [
    {
     "ename": "IndexError",
     "evalue": "index out of range in self",
     "output_type": "error",
     "traceback": [
      "\u001b[0;31m---------------------------------------------------------------------------\u001b[0m",
      "\u001b[0;31mIndexError\u001b[0m                                Traceback (most recent call last)",
      "\u001b[0;32m/tmp/ipykernel_3076308/2274679028.py\u001b[0m in \u001b[0;36m<module>\u001b[0;34m\u001b[0m\n\u001b[1;32m      1\u001b[0m \u001b[0;31m#only values between low and high-1 have entries in the table\u001b[0m\u001b[0;34m\u001b[0m\u001b[0;34m\u001b[0m\u001b[0m\n\u001b[0;32m----> 2\u001b[0;31m \u001b[0memb\u001b[0m\u001b[0;34m(\u001b[0m\u001b[0mtorch\u001b[0m\u001b[0;34m.\u001b[0m\u001b[0mtensor\u001b[0m\u001b[0;34m(\u001b[0m\u001b[0mhigh\u001b[0m\u001b[0;34m)\u001b[0m\u001b[0;34m)\u001b[0m\u001b[0;34m\u001b[0m\u001b[0;34m\u001b[0m\u001b[0m\n\u001b[0m",
      "\u001b[0;32m~/Downloads/venv_pytorch/lib64/python3.9/site-packages/torch/nn/modules/module.py\u001b[0m in \u001b[0;36m_call_impl\u001b[0;34m(self, *input, **kwargs)\u001b[0m\n\u001b[1;32m   1100\u001b[0m         if not (self._backward_hooks or self._forward_hooks or self._forward_pre_hooks or _global_backward_hooks\n\u001b[1;32m   1101\u001b[0m                 or _global_forward_hooks or _global_forward_pre_hooks):\n\u001b[0;32m-> 1102\u001b[0;31m             \u001b[0;32mreturn\u001b[0m \u001b[0mforward_call\u001b[0m\u001b[0;34m(\u001b[0m\u001b[0;34m*\u001b[0m\u001b[0minput\u001b[0m\u001b[0;34m,\u001b[0m \u001b[0;34m**\u001b[0m\u001b[0mkwargs\u001b[0m\u001b[0;34m)\u001b[0m\u001b[0;34m\u001b[0m\u001b[0;34m\u001b[0m\u001b[0m\n\u001b[0m\u001b[1;32m   1103\u001b[0m         \u001b[0;31m# Do not call functions when jit is used\u001b[0m\u001b[0;34m\u001b[0m\u001b[0;34m\u001b[0m\u001b[0m\n\u001b[1;32m   1104\u001b[0m         \u001b[0mfull_backward_hooks\u001b[0m\u001b[0;34m,\u001b[0m \u001b[0mnon_full_backward_hooks\u001b[0m \u001b[0;34m=\u001b[0m \u001b[0;34m[\u001b[0m\u001b[0;34m]\u001b[0m\u001b[0;34m,\u001b[0m \u001b[0;34m[\u001b[0m\u001b[0;34m]\u001b[0m\u001b[0;34m\u001b[0m\u001b[0;34m\u001b[0m\u001b[0m\n",
      "\u001b[0;32m~/Downloads/venv_pytorch/lib64/python3.9/site-packages/torch/nn/modules/sparse.py\u001b[0m in \u001b[0;36mforward\u001b[0;34m(self, input)\u001b[0m\n\u001b[1;32m    156\u001b[0m \u001b[0;34m\u001b[0m\u001b[0m\n\u001b[1;32m    157\u001b[0m     \u001b[0;32mdef\u001b[0m \u001b[0mforward\u001b[0m\u001b[0;34m(\u001b[0m\u001b[0mself\u001b[0m\u001b[0;34m,\u001b[0m \u001b[0minput\u001b[0m\u001b[0;34m:\u001b[0m \u001b[0mTensor\u001b[0m\u001b[0;34m)\u001b[0m \u001b[0;34m->\u001b[0m \u001b[0mTensor\u001b[0m\u001b[0;34m:\u001b[0m\u001b[0;34m\u001b[0m\u001b[0;34m\u001b[0m\u001b[0m\n\u001b[0;32m--> 158\u001b[0;31m         return F.embedding(\n\u001b[0m\u001b[1;32m    159\u001b[0m             \u001b[0minput\u001b[0m\u001b[0;34m,\u001b[0m \u001b[0mself\u001b[0m\u001b[0;34m.\u001b[0m\u001b[0mweight\u001b[0m\u001b[0;34m,\u001b[0m \u001b[0mself\u001b[0m\u001b[0;34m.\u001b[0m\u001b[0mpadding_idx\u001b[0m\u001b[0;34m,\u001b[0m \u001b[0mself\u001b[0m\u001b[0;34m.\u001b[0m\u001b[0mmax_norm\u001b[0m\u001b[0;34m,\u001b[0m\u001b[0;34m\u001b[0m\u001b[0;34m\u001b[0m\u001b[0m\n\u001b[1;32m    160\u001b[0m             self.norm_type, self.scale_grad_by_freq, self.sparse)\n",
      "\u001b[0;32m~/Downloads/venv_pytorch/lib64/python3.9/site-packages/torch/nn/functional.py\u001b[0m in \u001b[0;36membedding\u001b[0;34m(input, weight, padding_idx, max_norm, norm_type, scale_grad_by_freq, sparse)\u001b[0m\n\u001b[1;32m   2042\u001b[0m         \u001b[0;31m# remove once script supports set_grad_enabled\u001b[0m\u001b[0;34m\u001b[0m\u001b[0;34m\u001b[0m\u001b[0m\n\u001b[1;32m   2043\u001b[0m         \u001b[0m_no_grad_embedding_renorm_\u001b[0m\u001b[0;34m(\u001b[0m\u001b[0mweight\u001b[0m\u001b[0;34m,\u001b[0m \u001b[0minput\u001b[0m\u001b[0;34m,\u001b[0m \u001b[0mmax_norm\u001b[0m\u001b[0;34m,\u001b[0m \u001b[0mnorm_type\u001b[0m\u001b[0;34m)\u001b[0m\u001b[0;34m\u001b[0m\u001b[0;34m\u001b[0m\u001b[0m\n\u001b[0;32m-> 2044\u001b[0;31m     \u001b[0;32mreturn\u001b[0m \u001b[0mtorch\u001b[0m\u001b[0;34m.\u001b[0m\u001b[0membedding\u001b[0m\u001b[0;34m(\u001b[0m\u001b[0mweight\u001b[0m\u001b[0;34m,\u001b[0m \u001b[0minput\u001b[0m\u001b[0;34m,\u001b[0m \u001b[0mpadding_idx\u001b[0m\u001b[0;34m,\u001b[0m \u001b[0mscale_grad_by_freq\u001b[0m\u001b[0;34m,\u001b[0m \u001b[0msparse\u001b[0m\u001b[0;34m)\u001b[0m\u001b[0;34m\u001b[0m\u001b[0;34m\u001b[0m\u001b[0m\n\u001b[0m\u001b[1;32m   2045\u001b[0m \u001b[0;34m\u001b[0m\u001b[0m\n\u001b[1;32m   2046\u001b[0m \u001b[0;34m\u001b[0m\u001b[0m\n",
      "\u001b[0;31mIndexError\u001b[0m: index out of range in self"
     ]
    }
   ],
   "source": [
    "#only values between low and high-1 have entries in the table\n",
    "emb(torch.tensor(high))"
   ]
  },
  {
   "cell_type": "markdown",
   "id": "cc53ca4f",
   "metadata": {},
   "source": [
    "### RNN definition"
   ]
  },
  {
   "cell_type": "markdown",
   "id": "ee9e9cd2",
   "metadata": {},
   "source": [
    "The code below defines the recurrent neural network. There are three broad classes of RNNs:\n",
    "\n",
    "1. Vanilla RNNs - these tend to have a problem learning long-range behavior if the sequences are long. This is due to the so-called exploding and vanishing gradients problem (don't worry about this for now).\n",
    "\n",
    "2. Long short-term memory networks (LSTMs): instead of having just one (hidden) state like RNNs, LSTMs maintain a long-term memory vector and a short-term memory vector. The coarse idea is to use the long-term memory vector to \"remember\" long-range patterns.\n",
    "\n",
    "3. Gated Recurrent Units (GRUs): A simpler (less parameters/weights) form of LSTMs with the same underlying idea.\n",
    "\n",
    "(We can go over the details in a call)\n",
    "\n",
    "We will also use \"attention\". The core idea of attention is described below.\n",
    "\n",
    "As an RNN processes an input sequence (sentence or byte vector), it generates a sequence of hidden vectors.\n",
    "\n",
    "$$h_1, h_2, \\ldots, h_T$$\n",
    "\n",
    "where T = length of sequence.\n",
    "\n",
    "The final hidden state is then used as a measure of context for any downstream tasks (predicting an output sequence or predicting a class for the sequence).\n",
    "\n",
    "Attention refers to the idea that the context shouldn't consist just of $h_T$ but should be dynamic/flexible. \n",
    "\n",
    "For more details, either see the code below or the notes on attention near the end of this notebook."
   ]
  },
  {
   "cell_type": "markdown",
   "id": "b9326fd0",
   "metadata": {},
   "source": [
    "#### First, experiment with an LSTM to understand shapes of various tensors"
   ]
  },
  {
   "cell_type": "code",
   "execution_count": 8,
   "id": "70bd2848",
   "metadata": {},
   "outputs": [],
   "source": [
    "#see: https://pytorch.org/docs/stable/generated/torch.nn.LSTM.html\n",
    "rnn = nn.LSTM(input_size = 128, #dimension of embedding\n",
    "              hidden_size = 32, #\n",
    "              num_layers = 2,\n",
    "              batch_first = True, #expect (batch, seq, feature)\n",
    "              dropout = 0.5,\n",
    "              bidirectional=True                             \n",
    "             )"
   ]
  },
  {
   "cell_type": "code",
   "execution_count": 10,
   "id": "3e9e66eb",
   "metadata": {},
   "outputs": [
    {
     "data": {
      "text/plain": [
       "torch.Size([5, 10])"
      ]
     },
     "execution_count": 10,
     "metadata": {},
     "output_type": "execute_result"
    }
   ],
   "source": [
    "#want to understand data flow. pick some input data\n",
    "inp = torch.from_numpy(train_data[0:5, :-1])\n",
    "inp.shape #(batch/sequence number, length/time)"
   ]
  },
  {
   "cell_type": "code",
   "execution_count": 11,
   "id": "52f2e0eb",
   "metadata": {},
   "outputs": [
    {
     "data": {
      "text/plain": [
       "torch.Size([5, 10, 128])"
      ]
     },
     "execution_count": 11,
     "metadata": {},
     "output_type": "execute_result"
    }
   ],
   "source": [
    "emb(inp).shape #(batch/sequence number, length/time, embedding feature)"
   ]
  },
  {
   "cell_type": "code",
   "execution_count": 12,
   "id": "157368d2",
   "metadata": {},
   "outputs": [
    {
     "name": "stdout",
     "output_type": "stream",
     "text": [
      "<class 'tuple'>\n"
     ]
    },
    {
     "data": {
      "text/plain": [
       "2"
      ]
     },
     "execution_count": 12,
     "metadata": {},
     "output_type": "execute_result"
    }
   ],
   "source": [
    "print(type(rnn(emb(inp))))\n",
    "len(rnn(emb(inp)))"
   ]
  },
  {
   "cell_type": "code",
   "execution_count": 13,
   "id": "6b8283e7",
   "metadata": {},
   "outputs": [
    {
     "name": "stdout",
     "output_type": "stream",
     "text": [
      "<class 'torch.Tensor'>\n",
      "torch.Size([5, 10, 64])\n"
     ]
    }
   ],
   "source": [
    "print(type(rnn(emb(inp))[0]))\n",
    "print(rnn(emb(inp))[0].shape) #(batch/sequence number, length/time, embedding feature*2 for bidirectional)"
   ]
  },
  {
   "cell_type": "code",
   "execution_count": 14,
   "id": "1356dea9",
   "metadata": {},
   "outputs": [
    {
     "name": "stdout",
     "output_type": "stream",
     "text": [
      "<class 'tuple'>\n",
      "2\n"
     ]
    }
   ],
   "source": [
    "print(type(rnn(emb(inp))[1]))\n",
    "print(len(rnn(emb(inp))[1]))"
   ]
  },
  {
   "cell_type": "code",
   "execution_count": 15,
   "id": "d60c1da7",
   "metadata": {},
   "outputs": [
    {
     "name": "stdout",
     "output_type": "stream",
     "text": [
      "<class 'torch.Tensor'>\n",
      "torch.Size([4, 5, 32])\n"
     ]
    }
   ],
   "source": [
    "print(type(rnn(emb(inp))[1][0]))\n",
    "print(rnn(emb(inp))[1][0].shape)"
   ]
  },
  {
   "cell_type": "markdown",
   "id": "5445819d",
   "metadata": {},
   "source": [
    "Why is the output above of shape (4,5,32)?\n",
    "\n",
    "32 is the hidden dim i.e. the dimensionality of the hidden state and the cell state in an LSTM\n",
    "\n",
    "5 is the number of sequences in the batch (if this is not convincing, try changing inp to have, say, 7 sequences)\n",
    "\n",
    "where does the 4 come from? Claim: The 4 = 2 (num_layers) * 2 (bidirectional) cell states\n",
    "\n",
    "Of course, we could have looked at the documentation:\n",
    "\n",
    "https://pytorch.org/docs/stable/generated/torch.nn.LSTM.html\n",
    "\n",
    "Outputs: outputs, (h_n, c_n)\n",
    "\n",
    "where \n",
    "\n",
    "outputs.shape = (number of examples, length of sequence, 2*hidden_dim)\n",
    "\n",
    "h_n.shape = (2*num_layers, number of examples, hidden_dim)\n",
    "\n",
    "c_n.shape = (2*num_layers, number of examples, hidden_dim)"
   ]
  },
  {
   "cell_type": "code",
   "execution_count": 16,
   "id": "2782f82d",
   "metadata": {},
   "outputs": [
    {
     "name": "stdout",
     "output_type": "stream",
     "text": [
      "<class 'torch.Tensor'>\n",
      "torch.Size([4, 5, 32])\n"
     ]
    }
   ],
   "source": [
    "print(type(rnn(emb(inp))[1][1]))\n",
    "print(rnn(emb(inp))[1][1].shape)"
   ]
  },
  {
   "cell_type": "markdown",
   "id": "d53ef943",
   "metadata": {},
   "source": [
    "**Mock run**:\n",
    "    \n",
    "It's generally a good idea to pick one training point (X, y pair) and run through the operations manually before defining the network architecture."
   ]
  },
  {
   "cell_type": "code",
   "execution_count": 19,
   "id": "0cd4a35f",
   "metadata": {},
   "outputs": [
    {
     "name": "stdout",
     "output_type": "stream",
     "text": [
      "[6 7 7 0 9 6 4 2 5 8] 2 7\n"
     ]
    }
   ],
   "source": [
    "#step 1: look at data\n",
    "\n",
    "idx = 5\n",
    "\n",
    "X = train_data[idx, :]\n",
    "y = train_target[idx]\n",
    "\n",
    "X1 = X[:-1]\n",
    "X2 = X[-1]\n",
    "\n",
    "print(X1, X2, y)"
   ]
  },
  {
   "cell_type": "code",
   "execution_count": 20,
   "id": "73fe8eba",
   "metadata": {},
   "outputs": [
    {
     "data": {
      "text/plain": [
       "tensor([-4.0320e-01, -1.2980e+00, -1.6888e-01,  8.2602e-01, -1.1837e+00,\n",
       "        -3.7801e-01, -3.3321e-01, -7.6262e-01,  1.2111e+00, -1.8598e+00,\n",
       "         5.7202e-01,  1.7898e+00, -5.1014e-01, -1.6801e+00, -2.7512e+00,\n",
       "         4.9703e-01, -3.7516e-01, -9.7321e-01, -3.2525e-01, -1.0204e+00,\n",
       "        -1.9177e+00,  3.8137e+00, -1.5744e-01,  7.4243e-01,  3.9801e-01,\n",
       "        -8.2747e-01, -4.7468e-01,  1.0365e+00,  2.0530e-01, -9.3749e-01,\n",
       "         7.0374e-01, -5.9013e-01,  1.5797e+00,  3.9216e-01, -3.7361e-01,\n",
       "        -4.5384e-01, -1.7426e-03,  7.3646e-01, -2.6146e-01, -7.4182e-01,\n",
       "         4.4608e-01,  4.5910e-01, -1.0873e+00,  9.2724e-01, -2.7075e-01,\n",
       "        -3.7872e-01, -2.6626e-01, -1.2884e+00,  9.1999e-01,  1.1284e+00,\n",
       "        -9.9292e-01, -3.5182e-01, -7.9028e-01,  9.7772e-01,  4.4657e-01,\n",
       "         1.1482e+00,  8.2556e-01, -9.5577e-01,  2.2595e-02,  9.4079e-01,\n",
       "        -1.0995e-01, -3.6949e-01,  1.7131e-01,  6.1339e-01, -4.1668e-01,\n",
       "         9.0099e-01,  1.5663e-01,  3.6134e-01, -3.6487e-02,  1.8754e+00,\n",
       "         1.8038e+00,  5.6951e-01,  2.5740e-01, -5.8056e-01,  1.0501e+00,\n",
       "         7.9071e-01,  4.8259e-01, -1.0683e+00,  6.5732e-01,  1.0620e+00,\n",
       "         6.3358e-01,  1.6405e+00,  4.3030e-01, -2.0366e+00, -9.0577e-02,\n",
       "        -1.5983e-01, -4.4588e-01, -5.5496e-01, -9.3543e-01, -9.6354e-01,\n",
       "        -4.1084e-02, -6.8771e-01, -7.0775e-01, -2.6754e+00, -1.0782e+00,\n",
       "         6.4239e-02, -5.6832e-01,  1.2750e+00, -9.7573e-01, -1.2643e+00,\n",
       "        -1.9371e+00, -2.4720e+00,  1.7479e+00,  1.9947e-01, -7.7522e-01,\n",
       "         7.6136e-01,  9.9552e-01,  1.5258e+00, -3.4542e-01,  1.8463e+00,\n",
       "         5.1345e-01, -2.8700e-01, -2.4402e+00, -5.9996e-01,  5.2354e-01,\n",
       "        -1.3533e+00, -1.5185e-01, -7.5064e-02,  7.6578e-01,  1.2694e+00,\n",
       "        -3.9321e-01, -5.9350e-01, -3.2983e-01,  1.4836e+00,  3.1328e-02,\n",
       "         4.1642e-01,  1.7645e-01, -1.2263e+00], grad_fn=<EmbeddingBackward0>)"
      ]
     },
     "execution_count": 20,
     "metadata": {},
     "output_type": "execute_result"
    }
   ],
   "source": [
    "#step 2: compute embeddings for one element of input sequence\n",
    "low = 0\n",
    "high = 10\n",
    "\n",
    "embedding_dim = 128\n",
    "emb = nn.Embedding(num_embeddings=high-low, embedding_dim=128)\n",
    "\n",
    "emb(torch.from_numpy(X1)[3]) #can get embeddings for each element of X1"
   ]
  },
  {
   "cell_type": "code",
   "execution_count": 21,
   "id": "365c0a74",
   "metadata": {},
   "outputs": [],
   "source": [
    "#step 3: compute hidden states for one step of input sequence\n",
    "o, (h_n,c_n) = rnn(emb(torch.from_numpy(X1)[3])[None,None,:]) #emb()[None, None, :] of shape (1,1,embedding_dim=128)"
   ]
  },
  {
   "cell_type": "code",
   "execution_count": 22,
   "id": "8f03e5ee",
   "metadata": {},
   "outputs": [
    {
     "name": "stdout",
     "output_type": "stream",
     "text": [
      "torch.Size([1, 1, 64])\n",
      "torch.Size([4, 1, 32])\n",
      "torch.Size([4, 1, 32])\n"
     ]
    }
   ],
   "source": [
    "print(o.shape)\n",
    "print(h_n.shape)\n",
    "print(c_n.shape)"
   ]
  },
  {
   "cell_type": "code",
   "execution_count": 23,
   "id": "c38f8623",
   "metadata": {},
   "outputs": [
    {
     "name": "stdout",
     "output_type": "stream",
     "text": [
      "raw: torch.Size([10])\n",
      "raw unsqueeze: torch.Size([1, 10])\n",
      "emb: torch.Size([1, 10, 128])\n",
      "o: torch.Size([1, 10, 64])\n",
      "h: torch.Size([4, 1, 32])\n",
      "c: torch.Size([4, 1, 32])\n"
     ]
    }
   ],
   "source": [
    "#step 4: compute over full sequence\n",
    "print('raw:', torch.from_numpy(X1).shape) #(length of sequence)\n",
    "print('raw unsqueeze:', torch.from_numpy(X1)[None, :].shape) #(1, length of sequence) where 1 is the number of sequences\n",
    "print('emb:', emb(torch.from_numpy(X1)[None, :]).shape) #(1, length of sequence, embedding dim/input dim for rnn)\n",
    "\n",
    "o, (h,c) = rnn(emb(torch.from_numpy(X1)[None, :]))\n",
    "print('o:', o.shape) #(num of sequences = 1, length of sequence, 2 (bidirectional)*hidden_dim) #last layer, at every time-step\n",
    "print('h:', h.shape) #(bidirection*num_layers, num of sequences = 1, hidden_dim) - at last time-step\n",
    "print('c:', c.shape) #(bidirection*num_layers, num of sequences = 1, hidden_dim) - at last time-step"
   ]
  },
  {
   "cell_type": "code",
   "execution_count": 24,
   "id": "0d1dbe0d",
   "metadata": {},
   "outputs": [
    {
     "data": {
      "text/plain": [
       "tensor([-2.4066,  0.3874, -0.2741,  0.7896,  2.2930, -1.5099,  1.8357,  0.8648,\n",
       "        -0.3991,  1.3690, -1.7291,  2.1525,  1.4859,  1.9065,  0.3104, -0.2794,\n",
       "         0.1504, -0.3290, -1.0111, -2.0522,  0.7564,  1.5767, -0.1660,  1.0805,\n",
       "        -1.4234,  0.1020, -0.1304, -0.9577, -0.2527, -1.3946, -1.4574,  0.1234,\n",
       "         2.0053,  0.2970,  1.1602, -0.3519, -0.5659,  2.4481,  1.2678, -0.9473,\n",
       "        -0.4490, -0.0283,  0.3437, -1.5013, -1.0398,  0.5522,  0.9207,  1.1537,\n",
       "         0.3345, -0.9557, -0.0416, -1.4671,  2.0466, -1.6127, -0.3571, -0.7881,\n",
       "        -1.4416,  1.5570, -0.2997, -0.4113, -1.9607, -0.1700, -1.9856,  0.8302,\n",
       "         1.4236,  0.8954,  0.1888, -1.6999, -0.1394,  0.3861, -0.2690,  0.7066,\n",
       "         0.9592,  1.8472,  1.5252,  0.1275,  0.2479, -1.1904, -0.3044, -1.5451,\n",
       "        -0.6785,  0.2693,  0.4314, -1.4133, -1.0598, -0.3612,  0.6002, -0.5347,\n",
       "        -0.6613,  0.0950, -2.0728,  1.2626,  0.1590,  0.3705, -0.3920,  0.4917,\n",
       "        -0.7730, -0.4725, -2.3844, -1.0003, -0.0175, -0.7909, -0.4850, -1.2325,\n",
       "        -0.8102, -0.1342,  0.1636, -0.0703,  1.1100, -1.5909,  1.5921, -0.9105,\n",
       "         0.6507, -0.9037, -1.8597,  0.0988, -0.0157,  0.3387, -0.0396, -0.2745,\n",
       "         0.5387,  0.1253, -1.3972, -1.5050, -0.9192,  1.9345, -1.1159,  0.4327],\n",
       "       grad_fn=<EmbeddingBackward0>)"
      ]
     },
     "execution_count": 24,
     "metadata": {},
     "output_type": "execute_result"
    }
   ],
   "source": [
    "#step 5: another embedding layer for index\n",
    "#note: it would make sense for us to emb the position of each element in the input sequence and match the embedding\n",
    "#of the index to the embeddings of the position\n",
    "#note 2: if instead, we were doing a \"semantic search\", then embeddings of the search token would make more sense\n",
    "\n",
    "\n",
    "\n",
    "emb_idx = nn.Embedding(num_embeddings=d, embedding_dim=128) #there are d unique index values\n",
    "\n",
    "emb_idx(torch.tensor(X2))"
   ]
  },
  {
   "cell_type": "code",
   "execution_count": 25,
   "id": "fb72bdd1",
   "metadata": {},
   "outputs": [
    {
     "data": {
      "text/plain": [
       "tensor([ 0.5707,  0.2431, -0.9346, -0.8701, -0.1080,  0.8604, -0.5712,  0.6241,\n",
       "         0.6733,  0.7502,  0.3848, -0.2644,  0.5179,  1.7169, -0.0924, -0.1685,\n",
       "         1.0683,  0.1845, -0.0621, -0.3513, -1.0243,  0.9478, -0.2653, -0.1654,\n",
       "        -0.0420, -0.0109, -0.7637,  0.1415,  0.2183, -0.9593, -0.3521, -1.0048,\n",
       "         0.5739,  0.4629, -0.3068, -0.4034,  0.7746, -0.6187, -0.9493, -0.5107,\n",
       "        -0.3566, -1.5349, -0.0076, -1.2198,  1.0691,  0.0732,  0.1178, -0.9515,\n",
       "         0.1407, -1.2344,  0.4764,  1.7208, -0.9742, -0.2238, -0.9779, -0.4201,\n",
       "         0.1002,  0.6623, -0.6466, -0.4977, -0.0362, -0.2447, -0.4490, -1.0681],\n",
       "       grad_fn=<AddBackward0>)"
      ]
     },
     "execution_count": 25,
     "metadata": {},
     "output_type": "execute_result"
    }
   ],
   "source": [
    "#step 6: learn a dense layer to map embedding of idx and compare to output values for a sequence\n",
    "\n",
    "attn_lin = nn.Linear(128, 64) #128 is embedding_dim, 64 is bidirectional * hidden_dim (32)\n",
    "attn_lin(emb_idx(torch.tensor(X2)))"
   ]
  },
  {
   "cell_type": "code",
   "execution_count": 33,
   "id": "a931b8b3",
   "metadata": {},
   "outputs": [
    {
     "name": "stdout",
     "output_type": "stream",
     "text": [
      "a: torch.Size([1, 64])\n",
      "o: torch.Size([1, 10, 64])\n",
      "energies: torch.Size([1, 1, 10])\n",
      "energies: torch.Size([1, 10])\n",
      "tensor([[-0.0961,  0.9091,  0.8724,  0.3775,  0.1504,  0.3300,  0.3642,  0.3631,\n",
      "          0.3738,  0.9198]], grad_fn=<SqueezeBackward1>)\n",
      "scores: torch.Size([1, 10])\n",
      "tensor([[0.0546, 0.1492, 0.1438, 0.0877, 0.0699, 0.0836, 0.0865, 0.0864, 0.0874,\n",
      "         0.1508]], grad_fn=<DivBackward0>)\n",
      "tensor(1.0000, grad_fn=<SumBackward0>)\n",
      "out: torch.Size([1, 64])\n"
     ]
    }
   ],
   "source": [
    "#step 7: compute attention scores\n",
    "\n",
    "#7a: compute dot product of attn_lin(emb_idx()) with output\n",
    "\n",
    "a = attn_lin(emb_idx(torch.tensor(X2))).unsqueeze(0) #in general, will be of shape (num sequences, 64)\n",
    "print('a:', a.shape)\n",
    "\n",
    "print('o:', o.shape)\n",
    "energies = torch.tensordot(a, o, dims=([1], [2]))\n",
    "print('energies:', energies.shape)\n",
    "energies = energies.squeeze(1)\n",
    "print('energies:', energies.shape) #(num sequences, length of sequence)\n",
    "print(energies)\n",
    "\n",
    "#7b: compute attention scores\n",
    "scores = torch.exp(energies)\n",
    "scores /= scores.sum(dim=1)\n",
    "print('scores:', scores.shape)\n",
    "print(scores)\n",
    "print(scores.sum())\n",
    "\n",
    "assert(torch.abs(scores.sum()-1.0) < 1e-5)\n",
    "\n",
    "out = torch.tensordot(o, scores, dims=([1], [1])).squeeze(2) #weighted hidden state used to make predictions\n",
    "print('out:', out.shape)"
   ]
  },
  {
   "cell_type": "code",
   "execution_count": 32,
   "id": "5b80dd91",
   "metadata": {},
   "outputs": [
    {
     "data": {
      "text/plain": [
       "tensor([[0.1125, 0.1011, 0.0961, 0.0977, 0.0991, 0.0999, 0.1036, 0.0962, 0.1060,\n",
       "         0.0878]], grad_fn=<SoftmaxBackward0>)"
      ]
     },
     "execution_count": 32,
     "metadata": {},
     "output_type": "execute_result"
    }
   ],
   "source": [
    "#step 8: use out as input to small MLP to predict actual output\n",
    "\n",
    "out_layer = nn.Linear(64, high-low)\n",
    "out_activation = nn.Softmax(dim=1)\n",
    "out_activation(out_layer(out)) #actual probability that input_seq[input_idx] takes each value between high-low"
   ]
  },
  {
   "cell_type": "markdown",
   "id": "5844d094",
   "metadata": {},
   "source": [
    "### Putting it all together\n",
    "\n",
    "It is time to put these 8 steps together in one architecture. It's good practice to put assertions and sanity checks since we are composing many operations together.\n",
    "\n",
    "The following cell generalizes the above calculation to a batch of data\n",
    "\n",
    "**Exercise**: Go over each line, run it, make sure you understand why the shapes are what they are and how it corresponds to the attention mechanism described towards the end of this notebook."
   ]
  },
  {
   "cell_type": "code",
   "execution_count": 35,
   "id": "9b0a0a2d",
   "metadata": {},
   "outputs": [
    {
     "name": "stdout",
     "output_type": "stream",
     "text": [
      "\n",
      "Data:\n",
      "[[8 5 9 4 7 3 2 2 9 1]\n",
      " [6 7 7 0 9 6 4 2 5 8]\n",
      " [4 0 5 0 9 6 1 2 3 7]\n",
      " [9 9 6 7 3 9 1 9 9 9]\n",
      " [8 3 5 8 6 3 5 2 9 5]] [0 2 4 5 0] [8 7 9 9 8]\n",
      "(5, 10) (5,) (5,)\n",
      "\n",
      "rnn outputs:\n",
      "o: torch.Size([5, 10, 64])\n",
      "h: torch.Size([4, 5, 32])\n",
      "c: torch.Size([4, 5, 32])\n",
      "\n",
      "a: torch.Size([5, 64, 1])\n",
      "o: torch.Size([5, 10, 64])\n",
      "energies: torch.Size([5, 10, 1])\n",
      "scores: torch.Size([5, 10, 1])\n",
      "out: torch.Size([5, 64])\n"
     ]
    },
    {
     "data": {
      "text/plain": [
       "tensor([[0.0965, 0.1024, 0.0937, 0.1087, 0.1132, 0.0952, 0.0904, 0.1115, 0.0912,\n",
       "         0.0970],\n",
       "        [0.0958, 0.1013, 0.0914, 0.1105, 0.1098, 0.0995, 0.0907, 0.1115, 0.0887,\n",
       "         0.1009],\n",
       "        [0.0965, 0.1027, 0.0953, 0.1075, 0.1079, 0.1001, 0.0925, 0.1089, 0.0914,\n",
       "         0.0972],\n",
       "        [0.0972, 0.0982, 0.0913, 0.1121, 0.1041, 0.1025, 0.0936, 0.1109, 0.0928,\n",
       "         0.0973],\n",
       "        [0.0973, 0.1041, 0.0985, 0.1064, 0.1087, 0.0989, 0.0891, 0.1109, 0.0913,\n",
       "         0.0948]], grad_fn=<SoftmaxBackward0>)"
      ]
     },
     "execution_count": 35,
     "metadata": {},
     "output_type": "execute_result"
    }
   ],
   "source": [
    "#step 1: pick a batch of 5 examples\n",
    "X1 = train_data[4:9, :-1]\n",
    "X2 = train_data[4:9, -1]\n",
    "y = train_target[4:9]\n",
    "\n",
    "print('\\nData:')\n",
    "print(X1, X2, y)\n",
    "print(X1.shape, X2.shape, y.shape)\n",
    "\n",
    "#step 2: data -> embddings -> LSTM -> get output activations (from final layer, for all time-steps)\n",
    "o, (h,c) = rnn(emb(torch.from_numpy(X1)))\n",
    "print('\\nrnn outputs:')\n",
    "print('o:', o.shape) #(num of sequences = 1, length of sequence, 2 (bidirectional)*hidden_dim) #last layer, at every time-step\n",
    "print('h:', h.shape) #(bidirection*num_layers, num of sequences = 1, hidden_dim) - at last time-step\n",
    "print('c:', c.shape) #(bidirection*num_layers, num of sequences = 1, hidden_dim) - at last time-step\n",
    "\n",
    "#step 3: get embedding for index and use a linear layer to map it to 64 dimensions to compare to o\n",
    "emb_idx = nn.Embedding(num_embeddings=d, embedding_dim=128) #there are d unique index values\n",
    "\n",
    "attn_lin = nn.Linear(128, 64) #128 is embedding_dim, 64 is bidirectional * hidden_dim (32)\n",
    "\n",
    "\n",
    "#step 4: compute attention scores\n",
    "a = attn_lin(emb_idx(torch.tensor(X2))).unsqueeze(0) #in general, will be of shape (num sequences, 64)\n",
    "a = a.permute(1,2,0) #change shape so we can multiply it\n",
    "print('\\na:', a.shape)\n",
    "\n",
    "print('o:', o.shape)\n",
    "energies = o @ a #batch matrix multiplication (torch.bmm)\n",
    "print('energies:', energies.shape) #(num sequences, length of sequence, 1)\n",
    "\n",
    "#compute $\\alpha_{tj} i.e. probabilities\n",
    "scores = torch.exp(energies)\n",
    "scores = (scores / scores.sum(dim=1).unsqueeze(1))\n",
    "print('scores:', scores.shape)\n",
    "\n",
    "assert(scores.sum(dim=1).mean()==1) #by construction, should get a distribution over time-steps\n",
    "\n",
    "out = (o * scores).sum(dim=1) #compute the linear combination (weighted average)\n",
    "print('out:', out.shape)\n",
    "\n",
    "#step 5: map the attention-weighted hidden activations to prob distribution over discrete output space\n",
    "out_layer = nn.Linear(64, high-low)\n",
    "out_activation = nn.Softmax(dim=1)\n",
    "out_activation(out_layer(out)) #actual probability that input_seq[input_idx] takes each value between high-low"
   ]
  },
  {
   "cell_type": "markdown",
   "id": "28411e5e",
   "metadata": {},
   "source": [
    "Now, it really is time to put it all together and define out neural network architecture"
   ]
  },
  {
   "cell_type": "code",
   "execution_count": 74,
   "id": "0f77f5fa",
   "metadata": {},
   "outputs": [
    {
     "data": {
      "text/plain": [
       "4.904545783996582"
      ]
     },
     "execution_count": 74,
     "metadata": {},
     "output_type": "execute_result"
    }
   ],
   "source": [
    "torch.rand((64,10,1)).sum(dim=1).mean().item()"
   ]
  },
  {
   "cell_type": "code",
   "execution_count": 129,
   "id": "17cc47fc",
   "metadata": {},
   "outputs": [],
   "source": [
    "class Net(nn.Module):\n",
    "    def __init__(self, low, high, emb_dim, hidden_size, num_layers=1):\n",
    "        super().__init__()\n",
    "        \n",
    "        self.low = low\n",
    "        self.high = high\n",
    "        self.emb_dim = emb_dim\n",
    "        \n",
    "        self.emb = nn.Embedding(num_embeddings=high-low, embedding_dim=emb_dim)\n",
    "        self.emb_idx = nn.Embedding(num_embeddings=high-low, embedding_dim=emb_dim)\n",
    "        self.attn_lin = nn.Linear(emb_dim, hidden_size*2) #128 is embedding_dim, 64 is bidirectional * hidden_dim (32)\n",
    "        self.out_layer = nn.Linear(hidden_size*2, high-low)\n",
    "        \n",
    "        #see: https://pytorch.org/docs/stable/generated/torch.nn.LSTM.html\n",
    "        self.rnn = nn.LSTM(input_size = embedding_dim,\n",
    "                           hidden_size = hidden_size,\n",
    "                           num_layers = num_layers,\n",
    "                           batch_first = True, #expect (batch, seq, feature)\n",
    "                           dropout = 0.5,\n",
    "                           bidirectional=True                             \n",
    "                          )\n",
    "        \n",
    "        self.pred = nn.Linear(2*hidden_size, high-low)\n",
    "        \n",
    "    def forward(self, x):\n",
    "        X1 = x[:, :-1]\n",
    "        X2 = x[:, -1]\n",
    "        \n",
    "        o, (h,c) = self.rnn(self.emb(X1))\n",
    "        \n",
    "        #attention - map index to appropriate dimensionality\n",
    "        a = self.attn_lin(self.emb_idx(X2)).unsqueeze(0)\n",
    "        a = a.permute(1,2,0) #change shape so we can multiply it\n",
    "        \n",
    "        #attention - compute energies (log probabilities)\n",
    "        energies = o @ a #batch matrix multiplication (torch.bmm)\n",
    "\n",
    "        #attention - compute scores\n",
    "        scores = torch.exp(energies)\n",
    "        scores = (scores / scores.sum(dim=1).unsqueeze(1))\n",
    "\n",
    "        #print(scores.shape)\n",
    "        if (scores.sum(dim=1).mean()-1) > 1e-10: #by construction, should get a distribution over time-steps\n",
    "            print(scores.sum(dim=1).mean())\n",
    "            print(scores.sum(dim=1))\n",
    "            import ipdb\n",
    "            ipdb.set_trace()\n",
    "            \n",
    "        #attention - linear combination of encoder hidden states\n",
    "        out = (o * scores).sum(dim=1)\n",
    "        out = self.out_layer(out) #logits\n",
    "    \n",
    "        return out"
   ]
  },
  {
   "cell_type": "code",
   "execution_count": 139,
   "id": "0ad076d9",
   "metadata": {},
   "outputs": [],
   "source": [
    "emb_dim = 128\n",
    "hidden_size = 32\n",
    "num_layers = 2\n",
    "model = Net(low, high, emb_dim, hidden_size, num_layers=num_layers)"
   ]
  },
  {
   "cell_type": "code",
   "execution_count": 140,
   "id": "eb89f81f",
   "metadata": {},
   "outputs": [
    {
     "data": {
      "text/plain": [
       "torch.Size([5, 10])"
      ]
     },
     "execution_count": 140,
     "metadata": {},
     "output_type": "execute_result"
    }
   ],
   "source": [
    "X = train_data[4:9, :-1]\n",
    "y = train_target[4:9]\n",
    "\n",
    "model(torch.from_numpy(X)).shape #logits over output space for each sequence"
   ]
  },
  {
   "cell_type": "markdown",
   "id": "2b6c8476",
   "metadata": {},
   "source": [
    "### Training loop"
   ]
  },
  {
   "cell_type": "code",
   "execution_count": 141,
   "id": "686be6b1",
   "metadata": {},
   "outputs": [],
   "source": [
    "class Array(Dataset):\n",
    "    def __init__(self, data, targets):\n",
    "        self.data = data\n",
    "        self.targets = targets\n",
    "        \n",
    "    def __len__(self):\n",
    "        return len(self.data)\n",
    "    \n",
    "    def __getitem__(self, i):\n",
    "        X = torch.from_numpy(self.data[i])\n",
    "        y = torch.tensor(self.targets[i])\n",
    "        \n",
    "        assert(X[X[-1]]==y)\n",
    "        \n",
    "        return X, y"
   ]
  },
  {
   "cell_type": "code",
   "execution_count": 142,
   "id": "b816160d",
   "metadata": {},
   "outputs": [],
   "source": [
    "ds_train = Array(train_data, train_target)\n",
    "ds_test = Array(test_data, test_target)"
   ]
  },
  {
   "cell_type": "code",
   "execution_count": 143,
   "id": "f29bfbfe",
   "metadata": {},
   "outputs": [],
   "source": [
    "dl_train = DataLoader(ds_train, batch_size=64)\n",
    "dl_test = DataLoader(ds_test, batch_size=64)"
   ]
  },
  {
   "cell_type": "code",
   "execution_count": 144,
   "id": "fb3a776f",
   "metadata": {},
   "outputs": [
    {
     "name": "stdout",
     "output_type": "stream",
     "text": [
      "torch.Size([64, 11])\n",
      "torch.Size([64])\n"
     ]
    }
   ],
   "source": [
    "a,b = next(iter(dl_train))\n",
    "print(a.shape)\n",
    "print(b.shape)"
   ]
  },
  {
   "cell_type": "code",
   "execution_count": 145,
   "id": "93328b09",
   "metadata": {},
   "outputs": [],
   "source": [
    "model = model.to(device)\n",
    "criterion = nn.CrossEntropyLoss()\n",
    "optimizer = optim.Adam(model.parameters(), lr=1e-3)\n",
    "\n",
    "def train(net, dl_train, dl_test, n_epochs, criterion, optimizer, device, print_freq=10):\n",
    "    net.train()\n",
    "    \n",
    "    for i in range(n_epochs):\n",
    "        for idx, (X, y) in enumerate(dl_train):\n",
    "            X = X.to(device)\n",
    "            y = y.to(device)\n",
    "            \n",
    "            pred = net(X)\n",
    "            loss = criterion(pred, y)\n",
    "            \n",
    "            optimizer.zero_grad()\n",
    "            loss.backward()\n",
    "            optimizer.step()\n",
    "            \n",
    "        if i % print_freq==0:\n",
    "            train_acc = validate(net, dl_train)\n",
    "            test_acc = validate(net, dl_test)\n",
    "            \n",
    "            print(f'train acc = {train_acc} test acc = {test_acc}')\n",
    "            net = net.train()\n",
    "    return net\n",
    "\n",
    "def validate(net, dl):\n",
    "    net.eval()\n",
    "    n_correct = 0\n",
    "    n_total = 0\n",
    "    \n",
    "    with torch.no_grad(): #don't store gradients since we are not training here\n",
    "        for i, (X,y) in enumerate(dl):\n",
    "            X = X.to(device)\n",
    "            y = y.to(device)\n",
    "            \n",
    "            pred = net(X) \n",
    "            \n",
    "            #don't want just probabilities. pick class with maximum probability\n",
    "            pred = torch.argmax(pred, dim=1)\n",
    "            \n",
    "            n_correct += (pred==y).sum()\n",
    "            n_total += pred.shape[0]\n",
    "            \n",
    "    return n_correct/n_total"
   ]
  },
  {
   "cell_type": "code",
   "execution_count": 146,
   "id": "0072d212",
   "metadata": {
    "scrolled": false
   },
   "outputs": [
    {
     "name": "stdout",
     "output_type": "stream",
     "text": [
      "train acc = 0.42239999771118164 test acc = 0.42819997668266296\n",
      "train acc = 0.587399959564209 test acc = 0.5737999677658081\n",
      "train acc = 0.8101999759674072 test acc = 0.7775999903678894\n",
      "train acc = 0.9555999636650085 test acc = 0.9409999847412109\n",
      "train acc = 0.9815999865531921 test acc = 0.975600004196167\n",
      "train acc = 0.9973999857902527 test acc = 0.9979999661445618\n",
      "train acc = 0.9979999661445618 test acc = 0.9995999932289124\n",
      "train acc = 0.09939999878406525 test acc = 0.09600000083446503\n",
      "train acc = 0.09939999878406525 test acc = 0.09600000083446503\n",
      "train acc = 0.09939999878406525 test acc = 0.09600000083446503\n"
     ]
    }
   ],
   "source": [
    "model = train(model, dl_train, dl_test, 10, criterion, optimizer, device=device, print_freq=1)"
   ]
  },
  {
   "cell_type": "markdown",
   "id": "471c4bae",
   "metadata": {},
   "source": [
    "## Appendix"
   ]
  },
  {
   "cell_type": "markdown",
   "id": "6239a310",
   "metadata": {},
   "source": [
    "Seq2Seq (sequence to sequence) nets map an arbitrary length input sequence to an arbitrary length output sequence. If one wanted to map an arbitrary length input sequence to an output sequence of the same length, then one can use one RNN/LSTM."
   ]
  },
  {
   "cell_type": "markdown",
   "id": "6bb96044",
   "metadata": {},
   "source": [
    "### Seq2Seq paper: https://arxiv.org/pdf/1409.3215.pdf"
   ]
  },
  {
   "cell_type": "markdown",
   "id": "3f5a8e85",
   "metadata": {},
   "source": [
    "**Core idea**:\n",
    "\n",
    "* Use LSTM (encoder) with multiple layers (\"deep\") to map input sequence -> vector of fixed dimensionality.\n",
    "\n",
    "* Use another LSTM (decoder) with multiple layers to generate output sequence starting from vector of fixed dimensionality produced by encoder.\n",
    "\n",
    "* Additional trick that improves performance significantly: feed both the input sequence and reversed input sequence (bidirectional) to the encoder."
   ]
  },
  {
   "cell_type": "markdown",
   "id": "7a5e6564",
   "metadata": {},
   "source": [
    "**Core idea figure**:\n",
    "\n",
    "![Seq2Seq](seq2seq.png)"
   ]
  },
  {
   "cell_type": "markdown",
   "id": "ccefc4e6",
   "metadata": {},
   "source": [
    "**Example applications where input/output values are sequences of varying lengths**:\n",
    "\n",
    "* Speech recognition: audio -> text\n",
    "\n",
    "* Machine translation: text -> text\n",
    "\n",
    "* Question answering: text -> text"
   ]
  },
  {
   "cell_type": "markdown",
   "id": "3e0ce797",
   "metadata": {},
   "source": [
    "**How to think about the encoder-decoder architecture**:\n",
    "\n",
    "Encoder: Read input tokens one at a time and generate compressed context vector of fixed dimensionality.\n",
    "\n",
    "Decoder: Conditioned on context vector, generate sequences. In other words, all information about the input sequence is passed to the decoder through the context vector."
   ]
  },
  {
   "cell_type": "markdown",
   "id": "554dcf12",
   "metadata": {},
   "source": [
    "**Model architecture**:\n",
    "\n",
    "* LSTMs instead of RNNs\n",
    "\n",
    "* Two different LSTMs are used i.e. the same LSTM weights are not used for the encoder and the decoder\n",
    "\n",
    "* Multi-layer LSTMs are used: 4 layers\n",
    "\n",
    "* Order of tokens/words is reversed in input sequence i.e. instead of mapping: a,b,c -> $\\alpha,\\beta,\\gamma$, map c,b,a -> $\\alpha, \\beta, \\gamma$ so that a is closer to $\\alpha$, b is closer to $\\beta$. But note that now c is further away from $\\gamma$"
   ]
  },
  {
   "cell_type": "markdown",
   "id": "9842424f",
   "metadata": {},
   "source": [
    "**Dataset details**: To get a sense of scale\n",
    "\n",
    "Trained on 12 million sentences\n",
    "\n",
    "Total unique French words: 384 million\n",
    "\n",
    "Total unique English words: 304 million\n",
    "\n",
    "For predictions, output space of words was restricted to 160k words in the source language (English) and 80k words in the target language (French). If word not in vocabulary, replace by special unknown token, UNK."
   ]
  },
  {
   "cell_type": "markdown",
   "id": "e5f3f938",
   "metadata": {},
   "source": [
    "**Training details**:\n",
    "\n",
    "loss = $\\frac{1}{\\mid \\mathcal{S} \\mid} \\Sigma_{(T,S)\\in\\mathcal{S}} \\log p(T|S)$\n",
    "\n",
    "where $\\mathcal{S}$ is the training set.\n",
    "\n",
    "In other words, for each training example, the source sentence S is used to predict the target sentence T. For each token in the prediction, we know the actual/label token that should have been predicted. Compute the log probability for the label token and add them up over the target sentence tokens. Average these across each example in the training set.\n",
    "\n",
    "* LSTMs: 4 layers, 1000 cells (hidden_dim), 1000 dimensional word embeddings (embedding_dim), input vocabulary size = 160k, output vocabulary size = 80k.\n",
    "\n",
    "* LSTM weights ~ uniform(-0.08, 0.08)\n",
    "\n",
    "* SGD without momentum, lr = 0.7 for first 5 epochs and halve lr every half epoch\n",
    "\n",
    "* Total training time = 7.5 epochs\n",
    "\n",
    "* Batch size = 128\n",
    "\n",
    "* For each batch, compute $s = \\Vert g \\Vert_2 / 128$ where g = gradient. If $s > 5$, set $g = \\frac{5g}{s}$ i.e. if length of vector exceeds 5, rescale to make length = 5.\n",
    "\n",
    "* Most sentences are short (20-30 tokens) and some are long (>100 tokens). Make sure sentences in each batch are roughly the same length to avoid wasted computation.\n",
    "\n",
    "* Use model parallelism with different layers on different GPUs. Note this paper was written before TensorFlow, PyTorch, Theano (?) etc.\n",
    "\n",
    "**Prediction/inference details**:\n",
    "\n",
    "Beam search with size = 1 or 2 works well. In detail, the decoder is used to predict a probability distribution over all possible tokens at each time-step. Since the output of the decode at time t is the input to the decoder at time t+1, we need a sample from the distribution. \n",
    "\n",
    "Ideally, we want the output sequence to be such that the sum of the log probabilities of the sampled tokens is maximized. This is not the same as a greedy sampling strategy. Beam search keeps track of the top k running sums of log probabilities."
   ]
  },
  {
   "cell_type": "markdown",
   "id": "95e43358",
   "metadata": {},
   "source": [
    "**Questions**:\n",
    "\n",
    "* While training, how should the hidden state of the encoder be initialized?\n",
    "    * Zeros for each batch\n",
    "    * Make hidden state initialization learned?\n",
    "    * Keep hidden state evolving as batches get processed? This sounds troublesome since the implication is the order in which sequences are processed, matters."
   ]
  },
  {
   "cell_type": "markdown",
   "id": "dff8c9aa",
   "metadata": {},
   "source": [
    "### Seq2Seq + Attention paper: https://arxiv.org/pdf/1409.0473.pdf"
   ]
  },
  {
   "cell_type": "markdown",
   "id": "aea78baf",
   "metadata": {},
   "source": [
    "**Core idea**:\n",
    "\n",
    "* In the encoder-decoder setup, some tokens in the decoder/output sequence are far away from the corresponding tokens in the encoder/input sequence.\n",
    "\n",
    "* Since all context about the input is compressed into the context vector, it might lose information about earlier tokens. In other words, the context vector can be an information bottleneck.\n",
    "\n",
    "* This manifests itself as poor performance when the length of the input sequence gets long (longer than training data sequences).\n",
    "\n",
    "* Can each token in the decoder be allowed to search for relevant tokens in the input sentence? This search has to be soft i.e. predict probabilities over the input sequence rather than hard choices.\n",
    "\n",
    "* In this paper, a mechanism (attention) is introduced where, at each time-step in the decoder, a soft search over all hidden states in the encoder is carried out. This search is used to generate a new appropriate context vector that focuses on subsets of the input sequence. In other words, there is no need to encode the full input sequence into *one* context vector. Instead each input sequence is encoded into a sequence of vectors and during decoding, a soft search is carried out over this sequence of vectors."
   ]
  },
  {
   "cell_type": "markdown",
   "id": "7b7edcce",
   "metadata": {},
   "source": [
    "**Note**: \n",
    "\n",
    "While in the previous paper, the final hidden state in the decoder, $h_T$ is used as a context vector, as this paper suggests, one could generalize to:\n",
    "\n",
    "$$c = q({h_1, \\ldots, h_T})$$\n",
    "\n",
    "i.e. the context vector is some (fixed) function of all the hidden states."
   ]
  },
  {
   "cell_type": "markdown",
   "id": "27bc57bc",
   "metadata": {},
   "source": [
    "**Core idea figure**:\n",
    "\n",
    "![Model](seq2seq_attention.png)"
   ]
  },
  {
   "cell_type": "markdown",
   "id": "d39db22c",
   "metadata": {},
   "source": [
    "The $x_t$ are the input tokens to the encoder. The $h_t$ are the hidden states (bidirectional). The key difference is the computation of the decoder's hidden state at time t, $s_t$.\n",
    "\n",
    "In the classic encoder-decoder picture, $s_t = f(s_{t-1}, y_{t-1})$. In this model,\n",
    "\n",
    "$$s_t = f(s_{t-1}, y_{t-1}, h_{1}, h_{2}, \\ldots, h_T)$$\n",
    "\n",
    "where $f()$ sloppily refers to \"some function\" (not the same one in both computations). So, now the computation has direct access to each encoder hidden state."
   ]
  },
  {
   "cell_type": "markdown",
   "id": "f9441aa2",
   "metadata": {},
   "source": [
    "**Precise formulation**:\n",
    "\n",
    "Given an input sequence S, of length T, the encoder produces hidden states, $h_1, \\ldots, h_T$.\n",
    "\n",
    "These hidden states are used to compute a context vector, $c$. In the seq2seq paper, $c = h_T$.\n",
    "\n",
    "The decoder conditions on the context vector i.e. it intializes its hidden state, $s_0$ so that $s_0 = c$.\n",
    "\n",
    "\n",
    "The first token is a special SOS (start of sentence) token and is passed as the first input $y_0$. The decoder hidden state is updated:\n",
    "\n",
    "$$s_1 = f(s_0, y_0)$$\n",
    "\n",
    "which is used to compute the probability distribution over the vocabulary:\n",
    "\n",
    "$$p(y_1\\mid y_0, c) = g(s_1)$$\n",
    "\n",
    "\n",
    "For any time t,\n",
    "\n",
    "$$\\boxed{s_t = f(s_{t-1}, y_{t-1})}$$\n",
    "\n",
    "and $$\\boxed{p(y_t\\mid y_0,\\ldots, y_{t-1}, c) = g(s_{t})}$$\n",
    "\n",
    "Both of these equations implictly depend on the context vector $c$ since every calculation depends on $s_0 = c$. We make this explicit:\n",
    "\n",
    "$$\\boxed{s_t = f(s_{t-1}, y_{t-1}, c)}$$\n",
    "\n",
    "and $$\\boxed{p(y_t\\mid y_0,\\ldots, y_{t-1}, c) = g(s_{t}, c)}$$\n",
    "\n",
    "One way of looking at attention is to make $c$ dependent on time t, i.e.:\n",
    "\n",
    "$$\\boxed{s_t = f(s_{t-1}, y_{t-1}, c_t)}$$\n",
    "\n",
    "and $$\\boxed{p(y_t\\mid y_0,\\ldots, y_{t-1}) = g(s_{t}, c_t)}$$\n",
    "\n",
    "\n",
    "This implies an order of computation:\n",
    "\n",
    "* Compute $c_t$ which is the context vector at time t.\n",
    "\n",
    "* Compute hidden state $s_t$ from $c_t, s_{t-1}, y_{t-1}$.\n",
    "\n",
    "* Compute prob distribution from $s_t, c_t$.\n",
    "\n",
    "The context vector, instead of being just $h_T$ (last hidden vector in the encoder) is now generalized to a linear (convex) combination of all encoder hidden vectors:\n",
    "\n",
    "$$c_t = \\Sigma_{j} \\alpha_{tj}h_j$$\n",
    "\n",
    "where $\\alpha_{tj}$ can be interpreted as probabilities as shown below.\n",
    "\n",
    "$$\\alpha_{tj} = \\frac{e^{e_{tj}}}{\\Sigma_{k}e^{e_{tk}}}$$\n",
    "\n",
    "This is essentially a Boltzmann probability or you can think of $e_{tj}$ as the energy of the $j$th configuration, the exponential ensures that $\\alpha_{tj} > 0$ and the denominator ensures the $\\alpha_{tj}$ add up to 1 (when summed over $j$). \n",
    "\n",
    "The next question is how $e_{tj}$ is computed and there are many choices here. In general, $e_{tj} = a(s_{t-1}, h_j)$. Note that $e_{tj}$ is computed before $s_t$ and hence depends on $s_{t-1}$ and not $s_t$. In words, \"based on what the decoder has generated so far till time t-1 and the summary encoded in $s_{t-1}$, what information can be gathered from the encoder's hidden states to compute the next hidden state $s_t$ so the next token can be computed\".\n",
    "\n",
    "**Open question**: what would happen if $s_t$ were used to compute $c_t$?\n"
   ]
  },
  {
   "cell_type": "markdown",
   "id": "173b8d69",
   "metadata": {},
   "source": [
    "**Model architecture**:\n",
    "\n",
    "Encoder: Bidirectional RNN (LSTM etc.)\n",
    "\n",
    "Decoder: RNN (LSTM etc.) + Attention as described above\n",
    "\n",
    "Loss: multi-class log loss/cross-entropy\n",
    "\n",
    "Decoding strategy: Beam search\n",
    "\n",
    "Optimizer: Adadelta (training time for paper's model ~ 5 days on what hardware?)"
   ]
  },
  {
   "cell_type": "markdown",
   "id": "7a7fdb0b",
   "metadata": {},
   "source": [
    "**Model details**: (See appendix)\n",
    "\n",
    "**RNN**: Use LSTM or GRUs i.e. architectures that let one learn long-term dependencies since there are connections where the gradient is close to 1.\n",
    "\n",
    "Recall $s_t = f(s_{t-1}, y_{t-1}, c_t)$ with a time-dependent context.\n",
    "\n",
    "The precise computation used here is:\n",
    "\n",
    "$$s_t = f(s_{t-1}, y_{t-1}, c_t) = (1-z_t) \\odot s_{t-1} + z_t \\odot \\tilde{s}_t$$\n",
    "\n",
    "where $\\odot$ is element-wise multiplication, $z_t$ is the output of the update gates in the LSTM/GRU unit.\n",
    "\n",
    "One way to think of this computation is as follows:\n",
    "\n",
    "$z_t$ is a vector of numbers between 0 and 1 and hence is a soft mask or a vector of probabilities. It thereforce keeps elements of the previous state $s_{t-1}$ with probability $1-z_t$ and updates them with elements of a new hidden state candidate, $\\tilde{s}_t$ with probability $z_t$.\n",
    "\n",
    "The new candidate is defined to be:\n",
    "\n",
    "$$\\tilde{s}_t = \\tanh(W e(y_{t-1}) + U [r_t \\odot s_{t-1}] + C c_t)$$\n",
    "\n",
    "Note that apart from using the reset gate, $r_t$, this is the usual computation of a hidden unit where $e(y_{t-1})$ is the embedding of the token from time $t-1$. At its simplest, this embedding is just one-hot encoding.\n",
    "\n",
    "The two gates are computed using the same logic as any hidden recurrent unit:\n",
    "\n",
    "$$z_t = \\sigma(W_z e(y_{t-1}) + U_z s_{t-1} + C_z c_t)$$\n",
    "\n",
    "$$r_t = \\sigma(W_r e(y_{t-1}) + U_r s_{t-1} + C_r c_t)$$\n",
    "\n",
    "and $\\sigma$ is the sigmoid function to get values in range $(0,1)$.\n",
    "\n",
    "**Computation of c_t**:\n",
    "\n",
    "Recall that the context vector is a convex combination of the encoder's hidden states:\n",
    "\n",
    "$$c_t = \\Sigma_{j=1}^{T_x} \\alpha_{tj} h_j$$ \n",
    "\n",
    "where the weights $\\alpha_{tj}$ are computed using Boltzmann probabilities:\n",
    "\n",
    "$$\\alpha_{tj} = \\frac{\\exp(e_{tj})}{\\Sigma_k \\exp(e_{tk})}$$\n",
    "\n",
    "and the energies, $e_{tj}$ are:\n",
    "\n",
    "$$e_{tj} = a(s_{t-1}, h_j)$$\n",
    "\n",
    "There are many choices for $a()$. The one made by this paper is:\n",
    "\n",
    "$$e_{tj} = a(s_{t-1}, h_j) = v_a^T \\tanh(W_a s_{t-1} + U_a h_j)$$\n",
    "\n",
    "Here, $v_a, W_a, U_a$ are learned parameters. You can think of $e_{tj}$ as a similarity score between $s_{t-1}$ and $h_j$. The matrices $W_a$ and $U_a$ map $s_{t-1}$ and $h_j$ respectively, to the same vector space so they can be added together. Note, another simple choice could be:\n",
    "\n",
    "$$e_{tj} = s_{t-1}^T W_a h_j$$\n"
   ]
  },
  {
   "cell_type": "markdown",
   "id": "4a6f206e",
   "metadata": {},
   "source": [
    "**Training details**: \n",
    "\n",
    "* All recurrent weight matrices are initialized as random orthogonal matrices ($U^T U = I$)\n",
    "\n",
    "* $W_a$ and $U_a$ have each element drawn from a gaussian distribution, $\\mathcal{N}(0, 0.001^2)$\n",
    "\n",
    "* Biases and $V_a$ were initialized to zero.\n",
    "\n",
    "* Any other weight matrices had elements drawn from $\\mathcal{N}(0, 0.01^2)$\n",
    "\n",
    "* Adadelta (adaptive SGD algorithm) was used with parameters ($\\epsilon = 10^{-6}$ and $\\rho = 0.95$)\n",
    "\n",
    "* Gradients were restricted to be at most of $L_2$ norm = 1\n",
    "\n",
    "* Batch size = 80 sentences\n",
    "\n",
    "* Every 20th update, 20*80 = 1600 sentences were retrieved, sorted by sequence length and split into 20 batches for the next 20 updates. This is because the time spent on a batch was proportional to the length of the longest sequence.\n",
    "\n",
    "* Training data shuffled once before training"
   ]
  },
  {
   "cell_type": "code",
   "execution_count": null,
   "id": "92fd7907",
   "metadata": {},
   "outputs": [],
   "source": []
  }
 ],
 "metadata": {
  "kernelspec": {
   "display_name": "Python 3 (ipykernel)",
   "language": "python",
   "name": "python3"
  },
  "language_info": {
   "codemirror_mode": {
    "name": "ipython",
    "version": 3
   },
   "file_extension": ".py",
   "mimetype": "text/x-python",
   "name": "python",
   "nbconvert_exporter": "python",
   "pygments_lexer": "ipython3",
   "version": "3.9.10"
  },
  "toc": {
   "base_numbering": 1,
   "nav_menu": {},
   "number_sections": true,
   "sideBar": true,
   "skip_h1_title": false,
   "title_cell": "Table of Contents",
   "title_sidebar": "Contents",
   "toc_cell": false,
   "toc_position": {},
   "toc_section_display": true,
   "toc_window_display": false
  }
 },
 "nbformat": 4,
 "nbformat_minor": 5
}
